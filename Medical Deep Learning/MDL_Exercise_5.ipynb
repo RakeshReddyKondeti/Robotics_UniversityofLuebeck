{
  "nbformat": 4,
  "nbformat_minor": 0,
  "metadata": {
    "accelerator": "GPU",
    "colab": {
      "name": "mdl_exercise5_Template.ipynb",
      "provenance": [],
      "collapsed_sections": []
    },
    "kernelspec": {
      "display_name": "Python 3",
      "language": "python",
      "name": "python3"
    },
    "language_info": {
      "codemirror_mode": {
        "name": "ipython",
        "version": 3
      },
      "file_extension": ".py",
      "mimetype": "text/x-python",
      "name": "python",
      "nbconvert_exporter": "python",
      "pygments_lexer": "ipython3",
      "version": "3.7.6"
    },
    "widgets": {
      "application/vnd.jupyter.widget-state+json": {
        "63d3b45dd53245739ba045b52e1ddee1": {
          "model_module": "@jupyter-widgets/controls",
          "model_name": "HBoxModel",
          "state": {
            "_view_name": "HBoxView",
            "_dom_classes": [],
            "_model_name": "HBoxModel",
            "_view_module": "@jupyter-widgets/controls",
            "_model_module_version": "1.5.0",
            "_view_count": null,
            "_view_module_version": "1.5.0",
            "box_style": "",
            "layout": "IPY_MODEL_37456c2224cf40edaa45391f23f75214",
            "_model_module": "@jupyter-widgets/controls",
            "children": [
              "IPY_MODEL_92edd15049254256881cdada5b746558",
              "IPY_MODEL_5568b8b727e24f9bbdaf5dcebf6cbbf1"
            ]
          }
        },
        "37456c2224cf40edaa45391f23f75214": {
          "model_module": "@jupyter-widgets/base",
          "model_name": "LayoutModel",
          "state": {
            "_view_name": "LayoutView",
            "grid_template_rows": null,
            "right": null,
            "justify_content": null,
            "_view_module": "@jupyter-widgets/base",
            "overflow": null,
            "_model_module_version": "1.2.0",
            "_view_count": null,
            "flex_flow": null,
            "width": null,
            "min_width": null,
            "border": null,
            "align_items": null,
            "bottom": null,
            "_model_module": "@jupyter-widgets/base",
            "top": null,
            "grid_column": null,
            "overflow_y": null,
            "overflow_x": null,
            "grid_auto_flow": null,
            "grid_area": null,
            "grid_template_columns": null,
            "flex": null,
            "_model_name": "LayoutModel",
            "justify_items": null,
            "grid_row": null,
            "max_height": null,
            "align_content": null,
            "visibility": null,
            "align_self": null,
            "height": null,
            "min_height": null,
            "padding": null,
            "grid_auto_rows": null,
            "grid_gap": null,
            "max_width": null,
            "order": null,
            "_view_module_version": "1.2.0",
            "grid_template_areas": null,
            "object_position": null,
            "object_fit": null,
            "grid_auto_columns": null,
            "margin": null,
            "display": null,
            "left": null
          }
        },
        "92edd15049254256881cdada5b746558": {
          "model_module": "@jupyter-widgets/controls",
          "model_name": "FloatProgressModel",
          "state": {
            "_view_name": "ProgressView",
            "style": "IPY_MODEL_1ac2265d085d4c7eb396e9fa57a37eb3",
            "_dom_classes": [],
            "description": "100%",
            "_model_name": "FloatProgressModel",
            "bar_style": "success",
            "max": 531503671,
            "_view_module": "@jupyter-widgets/controls",
            "_model_module_version": "1.5.0",
            "value": 531503671,
            "_view_count": null,
            "_view_module_version": "1.5.0",
            "orientation": "horizontal",
            "min": 0,
            "description_tooltip": null,
            "_model_module": "@jupyter-widgets/controls",
            "layout": "IPY_MODEL_71d6a1e120db49f09e51e93d06fab0aa"
          }
        },
        "5568b8b727e24f9bbdaf5dcebf6cbbf1": {
          "model_module": "@jupyter-widgets/controls",
          "model_name": "HTMLModel",
          "state": {
            "_view_name": "HTMLView",
            "style": "IPY_MODEL_b0fb6fa390ac4ec8aef03fbcd3907e40",
            "_dom_classes": [],
            "description": "",
            "_model_name": "HTMLModel",
            "placeholder": "​",
            "_view_module": "@jupyter-widgets/controls",
            "_model_module_version": "1.5.0",
            "value": " 507M/507M [00:03&lt;00:00, 162MB/s]",
            "_view_count": null,
            "_view_module_version": "1.5.0",
            "description_tooltip": null,
            "_model_module": "@jupyter-widgets/controls",
            "layout": "IPY_MODEL_e2d55a0099ee43dfa0443ae098aada26"
          }
        },
        "1ac2265d085d4c7eb396e9fa57a37eb3": {
          "model_module": "@jupyter-widgets/controls",
          "model_name": "ProgressStyleModel",
          "state": {
            "_view_name": "StyleView",
            "_model_name": "ProgressStyleModel",
            "description_width": "initial",
            "_view_module": "@jupyter-widgets/base",
            "_model_module_version": "1.5.0",
            "_view_count": null,
            "_view_module_version": "1.2.0",
            "bar_color": null,
            "_model_module": "@jupyter-widgets/controls"
          }
        },
        "71d6a1e120db49f09e51e93d06fab0aa": {
          "model_module": "@jupyter-widgets/base",
          "model_name": "LayoutModel",
          "state": {
            "_view_name": "LayoutView",
            "grid_template_rows": null,
            "right": null,
            "justify_content": null,
            "_view_module": "@jupyter-widgets/base",
            "overflow": null,
            "_model_module_version": "1.2.0",
            "_view_count": null,
            "flex_flow": null,
            "width": null,
            "min_width": null,
            "border": null,
            "align_items": null,
            "bottom": null,
            "_model_module": "@jupyter-widgets/base",
            "top": null,
            "grid_column": null,
            "overflow_y": null,
            "overflow_x": null,
            "grid_auto_flow": null,
            "grid_area": null,
            "grid_template_columns": null,
            "flex": null,
            "_model_name": "LayoutModel",
            "justify_items": null,
            "grid_row": null,
            "max_height": null,
            "align_content": null,
            "visibility": null,
            "align_self": null,
            "height": null,
            "min_height": null,
            "padding": null,
            "grid_auto_rows": null,
            "grid_gap": null,
            "max_width": null,
            "order": null,
            "_view_module_version": "1.2.0",
            "grid_template_areas": null,
            "object_position": null,
            "object_fit": null,
            "grid_auto_columns": null,
            "margin": null,
            "display": null,
            "left": null
          }
        },
        "b0fb6fa390ac4ec8aef03fbcd3907e40": {
          "model_module": "@jupyter-widgets/controls",
          "model_name": "DescriptionStyleModel",
          "state": {
            "_view_name": "StyleView",
            "_model_name": "DescriptionStyleModel",
            "description_width": "",
            "_view_module": "@jupyter-widgets/base",
            "_model_module_version": "1.5.0",
            "_view_count": null,
            "_view_module_version": "1.2.0",
            "_model_module": "@jupyter-widgets/controls"
          }
        },
        "e2d55a0099ee43dfa0443ae098aada26": {
          "model_module": "@jupyter-widgets/base",
          "model_name": "LayoutModel",
          "state": {
            "_view_name": "LayoutView",
            "grid_template_rows": null,
            "right": null,
            "justify_content": null,
            "_view_module": "@jupyter-widgets/base",
            "overflow": null,
            "_model_module_version": "1.2.0",
            "_view_count": null,
            "flex_flow": null,
            "width": null,
            "min_width": null,
            "border": null,
            "align_items": null,
            "bottom": null,
            "_model_module": "@jupyter-widgets/base",
            "top": null,
            "grid_column": null,
            "overflow_y": null,
            "overflow_x": null,
            "grid_auto_flow": null,
            "grid_area": null,
            "grid_template_columns": null,
            "flex": null,
            "_model_name": "LayoutModel",
            "justify_items": null,
            "grid_row": null,
            "max_height": null,
            "align_content": null,
            "visibility": null,
            "align_self": null,
            "height": null,
            "min_height": null,
            "padding": null,
            "grid_auto_rows": null,
            "grid_gap": null,
            "max_width": null,
            "order": null,
            "_view_module_version": "1.2.0",
            "grid_template_areas": null,
            "object_position": null,
            "object_fit": null,
            "grid_auto_columns": null,
            "margin": null,
            "display": null,
            "left": null
          }
        }
      }
    }
  },
  "cells": [
    {
      "cell_type": "code",
      "metadata": {
        "colab": {
          "base_uri": "https://localhost:8080/"
        },
        "id": "sRUWE-KitK2d",
        "outputId": "08e72e95-66ab-4aa7-ec28-99a0043d5aab"
      },
      "source": [
        "#from google.colab import drive\n",
        "#drive.mount('/content/drive')\n",
        "import sys\n",
        "#sys.path.append('/content/drive/My Drive/mdl_exercise5')\n",
        "\n",
        "import torch\n",
        "import torchvision\n",
        "import torch.nn as nn\n",
        "import torch.nn.functional as F\n",
        "import torch.optim as optim\n",
        "import scipy.io\n",
        "import matplotlib.pyplot as plt\n",
        "import numpy as np\n",
        "import time\n",
        "import os\n",
        "import shutil,gzip\n",
        "from IPython.utils import io\n",
        "import torchvision.models as models\n",
        "\n",
        "#run pip install for pytorch flop counter before first use\n",
        "!pip install --upgrade git+https://github.com/Lyken17/pytorch-OpCounter.git\n",
        "from thop import profile\n",
        "!pip install -q wget\n",
        "import wget\n",
        "\n",
        "#some functions to count unique parameters and sparsity are provided\n",
        "def countParameters(net):\n",
        "    model_parameters = filter(lambda p: p.requires_grad, net.parameters())\n",
        "    params = sum([p.numel() for p in model_parameters])\n",
        "    return params\n",
        "\n",
        "def countUnique(net):\n",
        "    unique = 0\n",
        "    for m in net.modules():\n",
        "        if(isinstance(m,nn.Conv2d)):\n",
        "            unique += len(np.unique(m.weight.data.cpu().flatten().numpy()))\n",
        "    return unique\n",
        "    #print('#unique',unique)\n",
        "\n",
        "def countSparsity(net):\n",
        "    count_nonzero = 0; count_zero = 0\n",
        "    for m in net.modules():\n",
        "        if(isinstance(m, nn.Conv2d)):\n",
        "            count_nonzero += torch.sum((m.weight.data!=0).float())\n",
        "            count_zero += torch.sum((m.weight.data==0).float())\n",
        "    return count_zero/(count_zero+count_nonzero)\n",
        "            "
      ],
      "execution_count": null,
      "outputs": [
        {
          "output_type": "stream",
          "text": [
            "Collecting git+https://github.com/Lyken17/pytorch-OpCounter.git\n",
            "  Cloning https://github.com/Lyken17/pytorch-OpCounter.git to /tmp/pip-req-build-jwremf5l\n",
            "  Running command git clone -q https://github.com/Lyken17/pytorch-OpCounter.git /tmp/pip-req-build-jwremf5l\n",
            "Requirement already satisfied, skipping upgrade: torch in /usr/local/lib/python3.7/dist-packages (from thop==0.0.4-2106210645) (1.9.0+cu102)\n",
            "Requirement already satisfied, skipping upgrade: typing-extensions in /usr/local/lib/python3.7/dist-packages (from torch->thop==0.0.4-2106210645) (3.7.4.3)\n",
            "Building wheels for collected packages: thop\n",
            "  Building wheel for thop (setup.py) ... \u001b[?25l\u001b[?25hdone\n",
            "  Created wheel for thop: filename=thop-0.0.4.post2106210645-cp37-none-any.whl size=8739 sha256=bc33d8419b6a3c98c8a65d9057b19025c4ee33a28a1897171ab88e79980a6db0\n",
            "  Stored in directory: /tmp/pip-ephem-wheel-cache-gd4eb77v/wheels/79/0e/29/2d013ff0d3e36ae48894c11a6a9eecad6bc4789849f5ed802a\n",
            "Successfully built thop\n",
            "Installing collected packages: thop\n",
            "Successfully installed thop-0.0.4.post2106210645\n",
            "  Building wheel for wget (setup.py) ... \u001b[?25l\u001b[?25hdone\n"
          ],
          "name": "stdout"
        }
      ]
    },
    {
      "cell_type": "code",
      "metadata": {
        "colab": {
          "base_uri": "https://localhost:8080/",
          "height": 284
        },
        "id": "0kHfFFKUtcTY",
        "outputId": "c8d1147f-d02f-40a1-aba5-5c0232c6d52c"
      },
      "source": [
        "#loading the patch-based wholeslide histopathology data (uint8) and converting it to torch tensors\n",
        "import os\n",
        "\n",
        "dataset_url = 'https://cloud.imi.uni-luebeck.de/s/sjjiReHqSnokJ2n/download'\n",
        "\n",
        "def get_data(data_url):\n",
        "    filename = './patchCamelyon8c.mat'\n",
        "    if not os.path.exists(filename):\n",
        "        filename = wget.download(data_url)\n",
        "    \n",
        "get_data(dataset_url)\n",
        "\n",
        "\n",
        "data = scipy.io.loadmat('patchCamelyon8c.mat')\n",
        "print(data.keys())\n",
        "\n",
        "img_train = torch.from_numpy(data['img_train'].astype('float32')/255)\n",
        "img_test = torch.from_numpy(data['img_test'].astype('float32')/255)\n",
        "\n",
        "label_train = torch.from_numpy(data['label_train']).long()\n",
        "label_test = torch.from_numpy(data['label_test']).long()\n",
        "\n",
        "plt.imshow(img_test[100,:,:,:].permute(1,2,0))\n",
        "plt.show()"
      ],
      "execution_count": null,
      "outputs": [
        {
          "output_type": "stream",
          "text": [
            "dict_keys(['__header__', '__version__', '__globals__', 'img_test', 'img_train', 'label_test', 'label_train'])\n"
          ],
          "name": "stdout"
        },
        {
          "output_type": "display_data",
          "data": {
            "image/png": "[encoded data removed]",
            "text/plain": [
              "<Figure size 432x288 with 1 Axes>"
            ]
          },
          "metadata": {
            "tags": [],
            "needs_background": "light"
          }
        }
      ]
    },
    {
      "cell_type": "code",
      "metadata": {
        "colab": {
          "base_uri": "https://localhost:8080/",
          "height": 788,
          "referenced_widgets": [
            "63d3b45dd53245739ba045b52e1ddee1",
            "37456c2224cf40edaa45391f23f75214",
            "92edd15049254256881cdada5b746558",
            "5568b8b727e24f9bbdaf5dcebf6cbbf1",
            "1ac2265d085d4c7eb396e9fa57a37eb3",
            "71d6a1e120db49f09e51e93d06fab0aa",
            "b0fb6fa390ac4ec8aef03fbcd3907e40",
            "e2d55a0099ee43dfa0443ae098aada26"
          ]
        },
        "id": "VKHf1__JtM6x",
        "outputId": "3c076b82-d107-4537-c31b-2188f6ef9574"
      },
      "source": [
        "net = torchvision.models.vgg11_bn(pretrained='True')\n",
        "\n",
        "input = torch.randn(128, 3, 48, 48)\n",
        "with io.capture_output() as captured:\n",
        "    #flops, params = profile(net.features, input_size=(128,3,48,48))\n",
        "    flops, params = profile(net.features, inputs=(input, ))\n",
        "print('#GFlops',flops/1e9)\n",
        "\n",
        "print('#features',countParameters(net))\n",
        "\n",
        "# ========== Task 1: ==========\n",
        "# Replace the layer net.avgpool with an adaptive average pool of output size 1x1\n",
        "# Create a new classifier as nn.Sequential with two linear layers (512x256 and 256x2)\n",
        "# including one ReLU and no batch-norm. This reduces the parameter count to 9.4 million.\n",
        "# Fine-tune this network for 16 sub-epochs with batch size = 128, learning rate = 0.0005,\n",
        "# and decay = 0.9 (use only a random quarter of training patches per epoch).\n",
        "# Evaluate the test accuracy (which should be ~94%, random_seed=7).\n",
        "\n",
        "\n",
        "net.avgpool = nn.AdaptiveAvgPool2d((1,1))\n",
        "net.classifier = nn.Sequential(\n",
        "            nn.Linear(512, 256),\n",
        "            nn.ReLU(),\n",
        "            nn.Linear(256, 2)\n",
        "        )\n",
        "\n",
        "\n",
        "print('#features',countParameters(net))\n",
        "\n",
        "net.cuda()"
      ],
      "execution_count": null,
      "outputs": [
        {
          "output_type": "stream",
          "text": [
            "Downloading: \"https://download.pytorch.org/models/vgg11_bn-6002323d.pth\" to /root/.cache/torch/hub/checkpoints/vgg11_bn-6002323d.pth\n"
          ],
          "name": "stderr"
        },
        {
          "output_type": "display_data",
          "data": {
            "application/vnd.jupyter.widget-view+json": {
              "model_id": "63d3b45dd53245739ba045b52e1ddee1",
              "version_minor": 0,
              "version_major": 2
            },
            "text/plain": [
              "HBox(children=(FloatProgress(value=0.0, max=531503671.0), HTML(value='')))"
            ]
          },
          "metadata": {
            "tags": []
          }
        },
        {
          "output_type": "stream",
          "text": [
            "\n",
            "#GFlops 44.127092736\n",
            "#features 132868840\n",
            "#features 9357826\n"
          ],
          "name": "stdout"
        },
        {
          "output_type": "execute_result",
          "data": {
            "text/plain": [
              "VGG(\n",
              "  (features): Sequential(\n",
              "    (0): Conv2d(3, 64, kernel_size=(3, 3), stride=(1, 1), padding=(1, 1))\n",
              "    (1): BatchNorm2d(64, eps=1e-05, momentum=0.1, affine=True, track_running_stats=True)\n",
              "    (2): ReLU(inplace=True)\n",
              "    (3): MaxPool2d(kernel_size=2, stride=2, padding=0, dilation=1, ceil_mode=False)\n",
              "    (4): Conv2d(64, 128, kernel_size=(3, 3), stride=(1, 1), padding=(1, 1))\n",
              "    (5): BatchNorm2d(128, eps=1e-05, momentum=0.1, affine=True, track_running_stats=True)\n",
              "    (6): ReLU(inplace=True)\n",
              "    (7): MaxPool2d(kernel_size=2, stride=2, padding=0, dilation=1, ceil_mode=False)\n",
              "    (8): Conv2d(128, 256, kernel_size=(3, 3), stride=(1, 1), padding=(1, 1))\n",
              "    (9): BatchNorm2d(256, eps=1e-05, momentum=0.1, affine=True, track_running_stats=True)\n",
              "    (10): ReLU(inplace=True)\n",
              "    (11): Conv2d(256, 256, kernel_size=(3, 3), stride=(1, 1), padding=(1, 1))\n",
              "    (12): BatchNorm2d(256, eps=1e-05, momentum=0.1, affine=True, track_running_stats=True)\n",
              "    (13): ReLU(inplace=True)\n",
              "    (14): MaxPool2d(kernel_size=2, stride=2, padding=0, dilation=1, ceil_mode=False)\n",
              "    (15): Conv2d(256, 512, kernel_size=(3, 3), stride=(1, 1), padding=(1, 1))\n",
              "    (16): BatchNorm2d(512, eps=1e-05, momentum=0.1, affine=True, track_running_stats=True)\n",
              "    (17): ReLU(inplace=True)\n",
              "    (18): Conv2d(512, 512, kernel_size=(3, 3), stride=(1, 1), padding=(1, 1))\n",
              "    (19): BatchNorm2d(512, eps=1e-05, momentum=0.1, affine=True, track_running_stats=True)\n",
              "    (20): ReLU(inplace=True)\n",
              "    (21): MaxPool2d(kernel_size=2, stride=2, padding=0, dilation=1, ceil_mode=False)\n",
              "    (22): Conv2d(512, 512, kernel_size=(3, 3), stride=(1, 1), padding=(1, 1))\n",
              "    (23): BatchNorm2d(512, eps=1e-05, momentum=0.1, affine=True, track_running_stats=True)\n",
              "    (24): ReLU(inplace=True)\n",
              "    (25): Conv2d(512, 512, kernel_size=(3, 3), stride=(1, 1), padding=(1, 1))\n",
              "    (26): BatchNorm2d(512, eps=1e-05, momentum=0.1, affine=True, track_running_stats=True)\n",
              "    (27): ReLU(inplace=True)\n",
              "    (28): MaxPool2d(kernel_size=2, stride=2, padding=0, dilation=1, ceil_mode=False)\n",
              "  )\n",
              "  (avgpool): AdaptiveAvgPool2d(output_size=(1, 1))\n",
              "  (classifier): Sequential(\n",
              "    (0): Linear(in_features=512, out_features=256, bias=True)\n",
              "    (1): ReLU()\n",
              "    (2): Linear(in_features=256, out_features=2, bias=True)\n",
              "  )\n",
              ")"
            ]
          },
          "metadata": {
            "tags": []
          },
          "execution_count": 3
        }
      ]
    },
    {
      "cell_type": "code",
      "metadata": {
        "colab": {
          "base_uri": "https://localhost:8080/"
        },
        "id": "t9u5Esvn7mG2",
        "outputId": "b8959a96-956a-431c-efd7-7d91e95545a2"
      },
      "source": [
        "#FINETUNE\n",
        "\n",
        "torch.manual_seed(7)\n",
        "\n",
        "nr_epx = 16\n",
        "b_sz_train = 128\n",
        "init_lr = 0.0005\n",
        "decay = 0.9\n",
        "\n",
        "# initialize the optimizer and scheduler\n",
        "optimizer = optim.Adam(net.parameters(), lr=init_lr)#\n",
        "scheduler = torch.optim.lr_scheduler.ExponentialLR(optimizer=optimizer, gamma=decay)\n",
        "metric = nn.CrossEntropyLoss()\n",
        "\n",
        "run_loss = np.zeros(nr_epx)/0\n",
        "run_acc = np.zeros(nr_epx)/0\n",
        "\n",
        "\n",
        "for epoch in range(nr_epx):\n",
        "\n",
        "    run_loss[epoch] = 0\n",
        "    run_acc[epoch] = 0\n",
        "    \n",
        "    # generate a random permutation tensor to draw random batches from the given training data\n",
        "    train_perm = torch.randperm(img_train.size(0))\n",
        "    \n",
        "    \n",
        "    # loop over all batches\n",
        "    for i in range(0,img_train.size(0), b_sz_train):\n",
        "\n",
        "\n",
        "        optimizer.zero_grad()\n",
        "        \n",
        "        # draw the current random image batch and the associated class labels \n",
        "        # based on the random permutation tensor\n",
        "        # HINT: don't forget to adapt the input value range\n",
        "        img_batch = img_train[train_perm[max(0, i-b_sz_train):max(i, b_sz_train)]].cuda()# TODO\n",
        "\n",
        "        \n",
        "        \n",
        "        label_batch = label_train[:,train_perm[max(0, i-b_sz_train):max(i, b_sz_train)]].cuda()# TODO\n",
        "        \n",
        "        output = net(img_batch)\n",
        "\n",
        "\n",
        "        loss = metric(output,label_batch[0,:])\n",
        "        accuracy = torch.mean((output.argmax(1)==label_batch).float())\n",
        "        loss.backward()\n",
        "        optimizer.step()\n",
        "        \n",
        "        # TODO: keep track of the accuracy\n",
        "        run_acc[epoch] += accuracy#\n",
        "        \n",
        "    run_acc[epoch] /= (img_train.size(0)/b_sz_train)# \n",
        "    run_loss[epoch] += loss.item()\n",
        "    \n",
        "    print(epoch+1,'/',nr_epx,'loss',run_loss[epoch],'accuracy',run_acc[epoch])\n",
        "    scheduler.step()\n",
        "\n",
        "# SAVE THE TRAINED MODEL\n",
        "torch.save(net.cpu(),'finetuned_vgg.pth')"
      ],
      "execution_count": null,
      "outputs": [
        {
          "output_type": "stream",
          "text": [
            "/usr/local/lib/python3.7/dist-packages/ipykernel_launcher.py:15: RuntimeWarning: invalid value encountered in true_divide\n",
            "  from ipykernel import kernelapp as app\n",
            "/usr/local/lib/python3.7/dist-packages/ipykernel_launcher.py:16: RuntimeWarning: invalid value encountered in true_divide\n",
            "  app.launch_new_instance()\n"
          ],
          "name": "stderr"
        },
        {
          "output_type": "stream",
          "text": [
            "1 / 16 loss 0.31904366612434387 accuracy 0.89288330078125\n",
            "2 / 16 loss 0.12647239863872528 accuracy 0.9391021728515625\n",
            "3 / 16 loss 0.054242655634880066 accuracy 0.961029052734375\n",
            "4 / 16 loss 0.13187704980373383 accuracy 0.9759979248046875\n",
            "5 / 16 loss 0.038841720670461655 accuracy 0.9859161376953125\n",
            "6 / 16 loss 0.03331739827990532 accuracy 0.9910888671875\n",
            "7 / 16 loss 0.015376436524093151 accuracy 0.9936676025390625\n",
            "8 / 16 loss 0.003914546687155962 accuracy 0.9960479736328125\n",
            "9 / 16 loss 0.00494737271219492 accuracy 0.996826171875\n",
            "10 / 16 loss 0.0029841207433491945 accuracy 0.9974517822265625\n",
            "11 / 16 loss 0.006442893296480179 accuracy 0.99822998046875\n",
            "12 / 16 loss 0.009748170152306557 accuracy 0.998138427734375\n",
            "13 / 16 loss 0.00030295041506178677 accuracy 0.998870849609375\n",
            "14 / 16 loss 0.00012421890278346837 accuracy 0.998870849609375\n",
            "15 / 16 loss 2.5866746000247076e-05 accuracy 0.999114990234375\n",
            "16 / 16 loss 0.0032168535981327295 accuracy 0.9991912841796875\n"
          ],
          "name": "stdout"
        }
      ]
    },
    {
      "cell_type": "code",
      "metadata": {
        "colab": {
          "base_uri": "https://localhost:8080/"
        },
        "id": "zpjeBJvSPQqc",
        "outputId": "40e6ba12-f896-45cf-b0d5-ecdd0e44135e"
      },
      "source": [
        "# check the model's accuracy on the test dataset\n",
        "# HINT: don't forget to switch to .eval() mode...\n",
        "# you should achieve test accuracies ~80%\n",
        "\n",
        "net = torch.load('finetuned_vgg.pth')\n",
        "net.eval()\n",
        "net.cuda()\n",
        "\n",
        "test_acc = 0.0\n",
        "\n",
        "# LOOP over the testdata set\n",
        "for i in range(0,img_test.size(0), b_sz_train):\n",
        "  with torch.no_grad():\n",
        "\n",
        "\n",
        "    # draw the current random image batch and the associated class labels \n",
        "    # based on the random permutation tensor\n",
        "    # HINT: don't forget to adapt the input value range\n",
        "    img_batch = img_train[train_perm[max(0, i-b_sz_train):max(i, b_sz_train)]].cuda()# TODO\n",
        "\n",
        "        \n",
        "        \n",
        "    label_batch = label_train[:,train_perm[max(0, i-b_sz_train):max(i, b_sz_train)]].cuda()# TODO\n",
        "        \n",
        "    output = net(img_batch)\n",
        "\n",
        "    #loss = metric(output,label_batch)\n",
        "    accuracy = torch.mean((output.argmax(1)==label_batch).float())\n",
        "\n",
        "    # TODO: keep track of the accuracy\n",
        "    test_acc += accuracy#\n",
        "    \n",
        "print('Test accuracy:', test_acc/(img_test.size(0)/b_sz_train))"
      ],
      "execution_count": null,
      "outputs": [
        {
          "output_type": "stream",
          "text": [
            "Test accuracy: tensor(0.9991, device='cuda:0')\n"
          ],
          "name": "stdout"
        }
      ]
    },
    {
      "cell_type": "code",
      "metadata": {
        "id": "y0DMYXwivPPe",
        "colab": {
          "base_uri": "https://localhost:8080/"
        },
        "outputId": "65ccfe62-42f8-4e4f-c566-54271cebc1eb"
      },
      "source": [
        "# ========== Task 2: ==========\n",
        "# Start with the same modified, pre-trained (not fine-tuned) vgg11_bn as before. \n",
        "# Add a sparsity promoting loss (sum of absolute values) with a factor of 0.04\n",
        "# to the weight and bias parameters of  each BatchNorm2d.\n",
        "# Iterate through all modules() and determine the layer type using isinstance\n",
        "# Retrain and save the network. Evaluate its test accuracy (will drop slightly to ~89%)\n",
        "# Write a function that determines a threshold for input/output neurons to be set to zero\n",
        "# (the ones which have been reduced in absolute value using the sparsity constraint).\n",
        "# You can use the function topk (similar to nth_element in C++),\n",
        "# which outputs both the values and indices sorted around a chosen quantile/percentile.\n",
        "# Here we simply use the median to set 50% of values to zero.\n",
        "# When applied correctly (as incoming & outgoing mask) for each Conv2d layer, \n",
        "# it reduces the nonzero parameters by ~75% (the first incoming & last outgoing Conv2d are not masked).\n",
        "# Note that BatchNorm has four tensors and two index masks have to be applied as follows: \n",
        "#     B = A[idx_next,:,:,:][:,idx_prev,:,:]\n",
        "# Now you can replace all Conv2d and BatchNorm2d layers with smaller filters \n",
        "# (and copy their weights) so that we have the following sequence of channels:\n",
        "# 3, 32, 64, (2x)128, (3x)256, 512  \n",
        "# Evaluate the slimmed network (you could observe a slight improvement to ~92%)\n",
        "# and confirm that the required computations are reduced to 12 GFlops\n",
        "\n",
        "net = torchvision.models.vgg11_bn(pretrained='True')\n",
        "net.avgpool = nn.AdaptiveAvgPool2d((1,1))\n",
        "net.classifier = nn.Sequential(\n",
        "            nn.Linear(512, 256),\n",
        "            nn.Linear(256, 2),\n",
        "            nn.ReLU()\n",
        "        )\n",
        "net.cuda()\n",
        "\n",
        "\n",
        "\n",
        "\n",
        "torch.manual_seed(7)\n",
        "\n",
        "nr_epx = 16\n",
        "b_sz_train = 128\n",
        "init_lr = 0.0005\n",
        "decay = 0.9\n",
        "\n",
        "# initialize the optimizer and scheduler\n",
        "optimizer = optim.Adam(net.parameters(), lr=init_lr)#\n",
        "scheduler = torch.optim.lr_scheduler.ExponentialLR(optimizer=optimizer, gamma=decay)\n",
        "metric = nn.CrossEntropyLoss()\n",
        "\n",
        "run_loss = np.zeros(nr_epx)/0\n",
        "run_acc = np.zeros(nr_epx)/0\n",
        "\n",
        "\n",
        "for epoch in range(nr_epx):\n",
        "\n",
        "    run_loss[epoch] = 0\n",
        "    run_acc[epoch] = 0\n",
        "    \n",
        "    # generate a random permutation tensor to draw random batches from the given training data\n",
        "    train_perm = torch.randperm(img_train.size(0))\n",
        "    \n",
        "    \n",
        "    # loop over all batches\n",
        "    for i in range(0,img_train.size(0), b_sz_train):\n",
        "\n",
        "\n",
        "        optimizer.zero_grad()\n",
        "        \n",
        "        # draw the current random image batch and the associated class labels \n",
        "        # based on the random permutation tensor\n",
        "        # HINT: don't forget to adapt the input value range\n",
        "        img_batch = img_train[train_perm[max(0, i-b_sz_train):max(i, b_sz_train)]].cuda()# TODO\n",
        "\n",
        "        \n",
        "        \n",
        "        label_batch = label_train[:,train_perm[max(0, i-b_sz_train):max(i, b_sz_train)]].cuda()# TODO\n",
        "        \n",
        "        output = net(img_batch)\n",
        "\n",
        "\n",
        "        loss = metric(output,label_batch[0,:])\n",
        "        accuracy = torch.mean((output.argmax(1)==label_batch).float())\n",
        "\n",
        "        s_loss = 0\n",
        "        for module in net.modules():\n",
        "          if isinstance(module, nn.BatchNorm2d):\n",
        "            s_loss += 0.04*module.weight.abs().sum()\n",
        "            s_loss += 0.04*module.bias.abs().sum()\n",
        "\n",
        "        loss += s_loss\n",
        "        loss.backward()\n",
        "        optimizer.step()\n",
        "        \n",
        "        # TODO: keep track of the accuracy\n",
        "        run_acc[epoch] += accuracy#\n",
        "        \n",
        "    run_acc[epoch] /= (img_train.size(0)/b_sz_train)# \n",
        "    run_loss[epoch] += loss.item()\n",
        "    \n",
        "    print(epoch+1,'/',nr_epx,'loss',run_loss[epoch],'accuracy',run_acc[epoch])\n",
        "    scheduler.step()\n",
        "\n",
        "# SAVE THE TRAINED MODEL\n",
        "torch.save(net.cpu(),'sparsity_loss_vgg.pth')\n",
        "\n",
        "\n",
        "\n",
        "\n",
        "\n",
        "\n"
      ],
      "execution_count": null,
      "outputs": [
        {
          "output_type": "stream",
          "text": [
            "/usr/local/lib/python3.7/dist-packages/ipykernel_launcher.py:46: RuntimeWarning: invalid value encountered in true_divide\n",
            "/usr/local/lib/python3.7/dist-packages/ipykernel_launcher.py:47: RuntimeWarning: invalid value encountered in true_divide\n"
          ],
          "name": "stderr"
        },
        {
          "output_type": "stream",
          "text": [
            "1 / 16 loss 32.06831359863281 accuracy 0.8822479248046875\n",
            "2 / 16 loss 14.059919357299805 accuracy 0.8907928466796875\n",
            "3 / 16 loss 5.613494873046875 accuracy 0.89697265625\n",
            "4 / 16 loss 1.397934079170227 accuracy 0.90570068359375\n",
            "5 / 16 loss 0.532512903213501 accuracy 0.913482666015625\n",
            "6 / 16 loss 0.41881895065307617 accuracy 0.919769287109375\n",
            "7 / 16 loss 0.391041100025177 accuracy 0.92333984375\n",
            "8 / 16 loss 0.3393602967262268 accuracy 0.927886962890625\n",
            "9 / 16 loss 0.28034019470214844 accuracy 0.934051513671875\n",
            "10 / 16 loss 0.40048664808273315 accuracy 0.9373779296875\n",
            "11 / 16 loss 0.29310187697410583 accuracy 0.940216064453125\n",
            "12 / 16 loss 0.22089475393295288 accuracy 0.9452667236328125\n",
            "13 / 16 loss 0.3014027178287506 accuracy 0.9478759765625\n",
            "14 / 16 loss 0.2410624623298645 accuracy 0.951873779296875\n",
            "15 / 16 loss 0.20358608663082123 accuracy 0.9541015625\n",
            "16 / 16 loss 0.21352095901966095 accuracy 0.957244873046875\n"
          ],
          "name": "stdout"
        }
      ]
    },
    {
      "cell_type": "code",
      "metadata": {
        "id": "AEAryxAeNCPp"
      },
      "source": [
        "net = torch.load('sparsity_loss_vgg.pth')\n",
        "\n",
        "for module in net.modules():\n",
        "  if isinstance(module, nn.Conv2d):\n",
        "    w = module.weight.data.clone().detach()\n",
        "    b = module.bias.data.clone().detach()\n",
        "    #m = module.running_mean.data.clone().detach()\n",
        "    #v = module.running_var.data.clone().detach()\n",
        "    vals, indxs = torch.topk(w,int(w.shape[0]/2),dim=0)\n",
        "\n",
        "    w[indxs] = 0\n",
        "    module.weight.data = w\n",
        "    b[indxs] = 0\n",
        "    module.bias.data = w\n",
        "    #m[indxs] = 0\n",
        "    #module.running_mean.data = w\n",
        "    #v[indxs] = 0\n",
        "    #module.running_var.data = w\n"
      ],
      "execution_count": null,
      "outputs": []
    },
    {
      "cell_type": "code",
      "metadata": {
        "colab": {
          "base_uri": "https://localhost:8080/",
          "height": 346
        },
        "id": "Q4ay90rCv3gi",
        "outputId": "5db97a66-8f71-4e5a-ec38-44bf01601941"
      },
      "source": [
        "# ========== Task 3: ==========\n",
        "# Start with the same modified, pre-trained (not fine-tuned) vgg11_bn as before. \n",
        "# Finally we want to explore, how the memory storage can be reduced with little loss. \n",
        "# Here a ternary weight approximation will be used for which we first estimate\n",
        "# a per-channel delta for each weight in Conv2d given the rule-of-thumb below. \n",
        "# Tip: after calculating the absolute values the mean has to be computed over all but the 0-th dimension.\n",
        "# The obtained ternary weights have lost their magnitude, therefore the parameter \n",
        "# alpha (again per-channel) is computed and multiplied with the weight tensor\n",
        "\n",
        "# template for function in task 3\n",
        "def approx_weights(w_in, flag=True):\n",
        "    if(flag): #we want to use ternary weight approximation\n",
        "        with torch.no_grad():\n",
        "            a,b,c,d = w_in.size()\n",
        "            delta = 0.7 * torch.ones([a,1,1,1])#*.. there should be #a different delta values (viewed as 4D tensor)\n",
        "            alpha = 1 * torch.ones([a,1])#.. there should be #a different alpha values (~)\n",
        "            \n",
        "            w_out = delta + alpha * w_in #.. determine correct formula for output weights\n",
        "    else:\n",
        "        w_out = w_in\n",
        "    return w_out\n",
        "\n",
        "\n",
        "net = torchvision.models.vgg11_bn(pretrained='True')\n",
        "net.avgpool = nn.AdaptiveAvgPool2d((1,1))\n",
        "net.classifier = nn.Sequential(\n",
        "            nn.Linear(512, 256),\n",
        "            nn.Linear(256, 2),\n",
        "            nn.ReLU()\n",
        "        )\n",
        "net.cuda()\n",
        "\n",
        "# check the number of unique values before/after ternary approximation \n",
        "w_in = net.features[4].weight.clone().detach()\n",
        "w_approx = approx_weights(w_in,True)\n",
        "print('#unique',len(np.unique(w_in.data.cpu().flatten().numpy())))\n",
        "print('#unique',len(np.unique(w_approx.data.cpu().flatten().numpy())))\n",
        "\n",
        "# For a 128 x 64 x 3 x 3 kernel the number of unique entries is reduced from \n",
        "# more than 70 thousand to just 257 (2 x 128 + 1).\n",
        "# To effectively train a network with weight quantisation, it is important to only use the\n",
        "# ternary weights during forward/backward path, but update their gradients in full precision\n",
        "# Implement a loop that stores full precision weights in a list of tensors and replaces\n",
        "# the .data values with their approximation just before calling the forward pass (and zero_grad)\n",
        "# Reassign these backup copies after loss.backward() and before optimizer.step(). \n",
        "# Tip: you could use .pop(0) to (iteratively) access and remove the first object of a list.\n",
        "# Retrain your network and take care to perform the weight quantisation the same way \n",
        "# during test evaluation. The test accuracy should be around 85-90% during the epochs.\n",
        "\n"
      ],
      "execution_count": null,
      "outputs": [
        {
          "output_type": "error",
          "ename": "RuntimeError",
          "evalue": "ignored",
          "traceback": [
            "\u001b[0;31m---------------------------------------------------------------------------\u001b[0m",
            "\u001b[0;31mRuntimeError\u001b[0m                              Traceback (most recent call last)",
            "\u001b[0;32m<ipython-input-8-d44bf384ebcc>\u001b[0m in \u001b[0;36m<module>\u001b[0;34m()\u001b[0m\n\u001b[1;32m     33\u001b[0m \u001b[0;31m# check the number of unique values before/after ternary approximation\u001b[0m\u001b[0;34m\u001b[0m\u001b[0;34m\u001b[0m\u001b[0;34m\u001b[0m\u001b[0m\n\u001b[1;32m     34\u001b[0m \u001b[0mw_in\u001b[0m \u001b[0;34m=\u001b[0m \u001b[0mnet\u001b[0m\u001b[0;34m.\u001b[0m\u001b[0mfeatures\u001b[0m\u001b[0;34m[\u001b[0m\u001b[0;36m4\u001b[0m\u001b[0;34m]\u001b[0m\u001b[0;34m.\u001b[0m\u001b[0mweight\u001b[0m\u001b[0;34m.\u001b[0m\u001b[0mclone\u001b[0m\u001b[0;34m(\u001b[0m\u001b[0;34m)\u001b[0m\u001b[0;34m.\u001b[0m\u001b[0mdetach\u001b[0m\u001b[0;34m(\u001b[0m\u001b[0;34m)\u001b[0m\u001b[0;34m\u001b[0m\u001b[0;34m\u001b[0m\u001b[0m\n\u001b[0;32m---> 35\u001b[0;31m \u001b[0mw_approx\u001b[0m \u001b[0;34m=\u001b[0m \u001b[0mapprox_weights\u001b[0m\u001b[0;34m(\u001b[0m\u001b[0mw_in\u001b[0m\u001b[0;34m,\u001b[0m\u001b[0;32mTrue\u001b[0m\u001b[0;34m)\u001b[0m\u001b[0;34m\u001b[0m\u001b[0;34m\u001b[0m\u001b[0m\n\u001b[0m\u001b[1;32m     36\u001b[0m \u001b[0mprint\u001b[0m\u001b[0;34m(\u001b[0m\u001b[0;34m'#unique'\u001b[0m\u001b[0;34m,\u001b[0m\u001b[0mlen\u001b[0m\u001b[0;34m(\u001b[0m\u001b[0mnp\u001b[0m\u001b[0;34m.\u001b[0m\u001b[0munique\u001b[0m\u001b[0;34m(\u001b[0m\u001b[0mw_in\u001b[0m\u001b[0;34m.\u001b[0m\u001b[0mdata\u001b[0m\u001b[0;34m.\u001b[0m\u001b[0mcpu\u001b[0m\u001b[0;34m(\u001b[0m\u001b[0;34m)\u001b[0m\u001b[0;34m.\u001b[0m\u001b[0mflatten\u001b[0m\u001b[0;34m(\u001b[0m\u001b[0;34m)\u001b[0m\u001b[0;34m.\u001b[0m\u001b[0mnumpy\u001b[0m\u001b[0;34m(\u001b[0m\u001b[0;34m)\u001b[0m\u001b[0;34m)\u001b[0m\u001b[0;34m)\u001b[0m\u001b[0;34m)\u001b[0m\u001b[0;34m\u001b[0m\u001b[0;34m\u001b[0m\u001b[0m\n\u001b[1;32m     37\u001b[0m \u001b[0mprint\u001b[0m\u001b[0;34m(\u001b[0m\u001b[0;34m'#unique'\u001b[0m\u001b[0;34m,\u001b[0m\u001b[0mlen\u001b[0m\u001b[0;34m(\u001b[0m\u001b[0mnp\u001b[0m\u001b[0;34m.\u001b[0m\u001b[0munique\u001b[0m\u001b[0;34m(\u001b[0m\u001b[0mw_approx\u001b[0m\u001b[0;34m.\u001b[0m\u001b[0mdata\u001b[0m\u001b[0;34m.\u001b[0m\u001b[0mcpu\u001b[0m\u001b[0;34m(\u001b[0m\u001b[0;34m)\u001b[0m\u001b[0;34m.\u001b[0m\u001b[0mflatten\u001b[0m\u001b[0;34m(\u001b[0m\u001b[0;34m)\u001b[0m\u001b[0;34m.\u001b[0m\u001b[0mnumpy\u001b[0m\u001b[0;34m(\u001b[0m\u001b[0;34m)\u001b[0m\u001b[0;34m)\u001b[0m\u001b[0;34m)\u001b[0m\u001b[0;34m)\u001b[0m\u001b[0;34m\u001b[0m\u001b[0;34m\u001b[0m\u001b[0m\n",
            "\u001b[0;32m<ipython-input-8-d44bf384ebcc>\u001b[0m in \u001b[0;36mapprox_weights\u001b[0;34m(w_in, flag)\u001b[0m\n\u001b[1;32m     16\u001b[0m             \u001b[0malpha\u001b[0m \u001b[0;34m=\u001b[0m \u001b[0;36m1\u001b[0m \u001b[0;34m*\u001b[0m \u001b[0mtorch\u001b[0m\u001b[0;34m.\u001b[0m\u001b[0mones\u001b[0m\u001b[0;34m(\u001b[0m\u001b[0;34m[\u001b[0m\u001b[0ma\u001b[0m\u001b[0;34m,\u001b[0m\u001b[0;36m1\u001b[0m\u001b[0;34m]\u001b[0m\u001b[0;34m)\u001b[0m\u001b[0;31m#.. there should be #a different alpha values (~)\u001b[0m\u001b[0;34m\u001b[0m\u001b[0;34m\u001b[0m\u001b[0m\n\u001b[1;32m     17\u001b[0m \u001b[0;34m\u001b[0m\u001b[0m\n\u001b[0;32m---> 18\u001b[0;31m             \u001b[0mw_out\u001b[0m \u001b[0;34m=\u001b[0m \u001b[0mdelta\u001b[0m \u001b[0;34m+\u001b[0m \u001b[0malpha\u001b[0m \u001b[0;34m*\u001b[0m \u001b[0mw_in\u001b[0m \u001b[0;31m#.. determine correct formula for output weights\u001b[0m\u001b[0;34m\u001b[0m\u001b[0;34m\u001b[0m\u001b[0m\n\u001b[0m\u001b[1;32m     19\u001b[0m     \u001b[0;32melse\u001b[0m\u001b[0;34m:\u001b[0m\u001b[0;34m\u001b[0m\u001b[0;34m\u001b[0m\u001b[0m\n\u001b[1;32m     20\u001b[0m         \u001b[0mw_out\u001b[0m \u001b[0;34m=\u001b[0m \u001b[0mw_in\u001b[0m\u001b[0;34m\u001b[0m\u001b[0;34m\u001b[0m\u001b[0m\n",
            "\u001b[0;31mRuntimeError\u001b[0m: The size of tensor a (128) must match the size of tensor b (3) at non-singleton dimension 2"
          ]
        }
      ]
    },
    {
      "cell_type": "code",
      "metadata": {
        "id": "MERtcSlOv_1w"
      },
      "source": [
        "#Note: you can calculate the compressed model size (37MB to 2.8MB) with the following code snippet:\n",
        "torch.save(net.features.cpu().state_dict(),model_name+'_feat.pth')\n",
        "with open(model_name+'_feat.pth', 'rb') as f_in, gzip.open(model_name+'_feat.pth.gz', 'wb') as f_out:\n",
        "   shutil.copyfileobj(f_in, f_out)\n",
        "os.path.getsize(model_name+'_feat.pth.gz')"
      ],
      "execution_count": null,
      "outputs": []
    }
  ]
}