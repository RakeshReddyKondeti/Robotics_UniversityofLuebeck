{
  "nbformat": 4,
  "nbformat_minor": 5,
  "metadata": {
    "kernelspec": {
      "display_name": "Python 3",
      "language": "python",
      "name": "python3"
    },
    "language_info": {
      "codemirror_mode": {
        "name": "ipython",
        "version": 3
      },
      "file_extension": ".py",
      "mimetype": "text/x-python",
      "name": "python",
      "nbconvert_exporter": "python",
      "pygments_lexer": "ipython3",
      "version": "3.8.6"
    },
    "colab": {
      "name": "MDL_Exercise1.ipynb",
      "provenance": [],
      "collapsed_sections": []
    },
    "widgets": {
      "application/vnd.jupyter.widget-state+json": {
        "13ef3526acc84f44b1f4163ca7d636eb": {
          "model_module": "@jupyter-widgets/controls",
          "model_name": "HBoxModel",
          "state": {
            "_view_name": "HBoxView",
            "_dom_classes": [],
            "_model_name": "HBoxModel",
            "_view_module": "@jupyter-widgets/controls",
            "_model_module_version": "1.5.0",
            "_view_count": null,
            "_view_module_version": "1.5.0",
            "box_style": "",
            "layout": "IPY_MODEL_16bc5012405f4c6b819e8d638cd613cf",
            "_model_module": "@jupyter-widgets/controls",
            "children": [
              "IPY_MODEL_72445fcb67624397a14cb92cdbcf972f",
              "IPY_MODEL_7e2240ac90c94d66ae4f8b9be4a241f0"
            ]
          }
        },
        "16bc5012405f4c6b819e8d638cd613cf": {
          "model_module": "@jupyter-widgets/base",
          "model_name": "LayoutModel",
          "state": {
            "_view_name": "LayoutView",
            "grid_template_rows": null,
            "right": null,
            "justify_content": null,
            "_view_module": "@jupyter-widgets/base",
            "overflow": null,
            "_model_module_version": "1.2.0",
            "_view_count": null,
            "flex_flow": null,
            "width": null,
            "min_width": null,
            "border": null,
            "align_items": null,
            "bottom": null,
            "_model_module": "@jupyter-widgets/base",
            "top": null,
            "grid_column": null,
            "overflow_y": null,
            "overflow_x": null,
            "grid_auto_flow": null,
            "grid_area": null,
            "grid_template_columns": null,
            "flex": null,
            "_model_name": "LayoutModel",
            "justify_items": null,
            "grid_row": null,
            "max_height": null,
            "align_content": null,
            "visibility": null,
            "align_self": null,
            "height": null,
            "min_height": null,
            "padding": null,
            "grid_auto_rows": null,
            "grid_gap": null,
            "max_width": null,
            "order": null,
            "_view_module_version": "1.2.0",
            "grid_template_areas": null,
            "object_position": null,
            "object_fit": null,
            "grid_auto_columns": null,
            "margin": null,
            "display": null,
            "left": null
          }
        },
        "72445fcb67624397a14cb92cdbcf972f": {
          "model_module": "@jupyter-widgets/controls",
          "model_name": "FloatProgressModel",
          "state": {
            "_view_name": "ProgressView",
            "style": "IPY_MODEL_2420780381bb42fda46630ab22d85fe3",
            "_dom_classes": [],
            "description": "progress:   0%",
            "_model_name": "FloatProgressModel",
            "bar_style": "danger",
            "max": 25,
            "_view_module": "@jupyter-widgets/controls",
            "_model_module_version": "1.5.0",
            "value": 0,
            "_view_count": null,
            "_view_module_version": "1.5.0",
            "orientation": "horizontal",
            "min": 0,
            "description_tooltip": null,
            "_model_module": "@jupyter-widgets/controls",
            "layout": "IPY_MODEL_039d3f5fe495465ca40befd0084f5c96"
          }
        },
        "7e2240ac90c94d66ae4f8b9be4a241f0": {
          "model_module": "@jupyter-widgets/controls",
          "model_name": "HTMLModel",
          "state": {
            "_view_name": "HTMLView",
            "style": "IPY_MODEL_5761a3d033b248739cf523d7b8396438",
            "_dom_classes": [],
            "description": "",
            "_model_name": "HTMLModel",
            "placeholder": "​",
            "_view_module": "@jupyter-widgets/controls",
            "_model_module_version": "1.5.0",
            "value": " 0/25 [00:12&lt;?, ?it/s]",
            "_view_count": null,
            "_view_module_version": "1.5.0",
            "description_tooltip": null,
            "_model_module": "@jupyter-widgets/controls",
            "layout": "IPY_MODEL_57796abedf5b435cb241d6db9c6bc1a7"
          }
        },
        "2420780381bb42fda46630ab22d85fe3": {
          "model_module": "@jupyter-widgets/controls",
          "model_name": "ProgressStyleModel",
          "state": {
            "_view_name": "StyleView",
            "_model_name": "ProgressStyleModel",
            "description_width": "initial",
            "_view_module": "@jupyter-widgets/base",
            "_model_module_version": "1.5.0",
            "_view_count": null,
            "_view_module_version": "1.2.0",
            "bar_color": null,
            "_model_module": "@jupyter-widgets/controls"
          }
        },
        "039d3f5fe495465ca40befd0084f5c96": {
          "model_module": "@jupyter-widgets/base",
          "model_name": "LayoutModel",
          "state": {
            "_view_name": "LayoutView",
            "grid_template_rows": null,
            "right": null,
            "justify_content": null,
            "_view_module": "@jupyter-widgets/base",
            "overflow": null,
            "_model_module_version": "1.2.0",
            "_view_count": null,
            "flex_flow": null,
            "width": null,
            "min_width": null,
            "border": null,
            "align_items": null,
            "bottom": null,
            "_model_module": "@jupyter-widgets/base",
            "top": null,
            "grid_column": null,
            "overflow_y": null,
            "overflow_x": null,
            "grid_auto_flow": null,
            "grid_area": null,
            "grid_template_columns": null,
            "flex": null,
            "_model_name": "LayoutModel",
            "justify_items": null,
            "grid_row": null,
            "max_height": null,
            "align_content": null,
            "visibility": null,
            "align_self": null,
            "height": null,
            "min_height": null,
            "padding": null,
            "grid_auto_rows": null,
            "grid_gap": null,
            "max_width": null,
            "order": null,
            "_view_module_version": "1.2.0",
            "grid_template_areas": null,
            "object_position": null,
            "object_fit": null,
            "grid_auto_columns": null,
            "margin": null,
            "display": null,
            "left": null
          }
        },
        "5761a3d033b248739cf523d7b8396438": {
          "model_module": "@jupyter-widgets/controls",
          "model_name": "DescriptionStyleModel",
          "state": {
            "_view_name": "StyleView",
            "_model_name": "DescriptionStyleModel",
            "description_width": "",
            "_view_module": "@jupyter-widgets/base",
            "_model_module_version": "1.5.0",
            "_view_count": null,
            "_view_module_version": "1.2.0",
            "_model_module": "@jupyter-widgets/controls"
          }
        },
        "57796abedf5b435cb241d6db9c6bc1a7": {
          "model_module": "@jupyter-widgets/base",
          "model_name": "LayoutModel",
          "state": {
            "_view_name": "LayoutView",
            "grid_template_rows": null,
            "right": null,
            "justify_content": null,
            "_view_module": "@jupyter-widgets/base",
            "overflow": null,
            "_model_module_version": "1.2.0",
            "_view_count": null,
            "flex_flow": null,
            "width": null,
            "min_width": null,
            "border": null,
            "align_items": null,
            "bottom": null,
            "_model_module": "@jupyter-widgets/base",
            "top": null,
            "grid_column": null,
            "overflow_y": null,
            "overflow_x": null,
            "grid_auto_flow": null,
            "grid_area": null,
            "grid_template_columns": null,
            "flex": null,
            "_model_name": "LayoutModel",
            "justify_items": null,
            "grid_row": null,
            "max_height": null,
            "align_content": null,
            "visibility": null,
            "align_self": null,
            "height": null,
            "min_height": null,
            "padding": null,
            "grid_auto_rows": null,
            "grid_gap": null,
            "max_width": null,
            "order": null,
            "_view_module_version": "1.2.0",
            "grid_template_areas": null,
            "object_position": null,
            "object_fit": null,
            "grid_auto_columns": null,
            "margin": null,
            "display": null,
            "left": null
          }
        }
      }
    },
    "accelerator": "GPU"
  },
  "cells": [
    {
      "cell_type": "markdown",
      "metadata": {
        "id": "MkCyEwQy4UHB"
      },
      "source": [
        "# MDL Exercise 1\n",
        "\n",
        "---\n",
        "\n",
        "In this tutorial we will set up the foundations to load the data, create a fully-convolutional network (FCN) for image segmentation, and train it to solve multi-class segmentation problems for medical applications. On top of that, we will implement DeepLab with a MobileNetV2 backbone which will be compared to the results of the FCN."
      ],
      "id": "MkCyEwQy4UHB"
    },
    {
      "cell_type": "markdown",
      "metadata": {
        "id": "eX__SDCBS0bU"
      },
      "source": [
        "**Data**\n",
        "\n",
        "At first we download and unzip the data:"
      ],
      "id": "eX__SDCBS0bU"
    },
    {
      "cell_type": "code",
      "metadata": {
        "id": "Fs1SnVCBv0Nq",
        "colab": {
          "base_uri": "https://localhost:8080/"
        },
        "outputId": "82ae0963-9784-4cfd-9295-386b0c9dc738"
      },
      "source": [
        "!wget https://cloud.imi.uni-luebeck.de/s/zFyEiJKNtaKKzS8/download -O AbdomenPreAffine.zip\n",
        "!unzip -o AbdomenPreAffine.zip > /dev/null  # disable the output"
      ],
      "id": "Fs1SnVCBv0Nq",
      "execution_count": null,
      "outputs": [
        {
          "output_type": "stream",
          "text": [
            "--2021-05-03 10:52:40--  https://cloud.imi.uni-luebeck.de/s/zFyEiJKNtaKKzS8/download\n",
            "Resolving cloud.imi.uni-luebeck.de (cloud.imi.uni-luebeck.de)... 141.83.20.118\n",
            "Connecting to cloud.imi.uni-luebeck.de (cloud.imi.uni-luebeck.de)|141.83.20.118|:443... connected.\n",
            "HTTP request sent, awaiting response... 200 OK\n",
            "Length: 1134479629 (1.1G) [application/zip]\n",
            "Saving to: ‘AbdomenPreAffine.zip’\n",
            "\n",
            "AbdomenPreAffine.zi 100%[===================>]   1.06G  10.8MB/s    in 1m 42s  \n",
            "\n",
            "2021-05-03 10:54:24 (10.6 MB/s) - ‘AbdomenPreAffine.zip’ saved [1134479629/1134479629]\n",
            "\n"
          ],
          "name": "stdout"
        }
      ]
    },
    {
      "cell_type": "code",
      "metadata": {
        "id": "BXdIbHDpDu_J",
        "colab": {
          "base_uri": "https://localhost:8080/"
        },
        "outputId": "564c046c-8726-4d5d-f6e2-2a03d8e540d8"
      },
      "source": [
        "!wget https://cloud.imi.uni-luebeck.de/s/Fd63J7xMLmkMEzb/download -O mdl_exercise1_utils.py\n",
        "\n",
        "from mdl_exercise1_utils import init_weights, Plotter, ZeroPad, Crop, Scale, ToCuda"
      ],
      "id": "BXdIbHDpDu_J",
      "execution_count": null,
      "outputs": [
        {
          "output_type": "stream",
          "text": [
            "--2021-05-03 10:54:32--  https://cloud.imi.uni-luebeck.de/s/Fd63J7xMLmkMEzb/download\n",
            "Resolving cloud.imi.uni-luebeck.de (cloud.imi.uni-luebeck.de)... 141.83.20.118\n",
            "Connecting to cloud.imi.uni-luebeck.de (cloud.imi.uni-luebeck.de)|141.83.20.118|:443... connected.\n",
            "HTTP request sent, awaiting response... 200 OK\n",
            "Length: 4256 (4.2K) [text/x-python]\n",
            "Saving to: ‘mdl_exercise1_utils.py’\n",
            "\n",
            "mdl_exercise1_utils 100%[===================>]   4.16K  --.-KB/s    in 0s      \n",
            "\n",
            "2021-05-03 10:54:34 (589 MB/s) - ‘mdl_exercise1_utils.py’ saved [4256/4256]\n",
            "\n"
          ],
          "name": "stdout"
        }
      ]
    },
    {
      "cell_type": "markdown",
      "metadata": {
        "id": "IkOPbzDvbtwO"
      },
      "source": [
        "Let's get started with the code and run all the imports:"
      ],
      "id": "IkOPbzDvbtwO"
    },
    {
      "cell_type": "code",
      "metadata": {
        "id": "fresh-details"
      },
      "source": [
        "#!pip uninstall torch -y\n",
        "#!pip install torch -y\n",
        "\n",
        "import torch\n",
        "from torch import nn\n",
        "from torch.nn import functional as F\n",
        "from torch import Tensor\n",
        "\n",
        "import nibabel as nib\n",
        "import os\n",
        "from collections import OrderedDict\n",
        "from typing import Callable, Any, Optional, List\n",
        "\n",
        "import matplotlib.pyplot as plt\n",
        "from tqdm.notebook import tqdm\n",
        "\n",
        "from torch.utils.checkpoint import checkpoint\n",
        "\n",
        "#!nvcc --version"
      ],
      "id": "fresh-details",
      "execution_count": null,
      "outputs": []
    },
    {
      "cell_type": "markdown",
      "metadata": {
        "id": "_Tn1AiXHIo_6"
      },
      "source": [
        "The **training data** is loaded from the filesystem as:"
      ],
      "id": "_Tn1AiXHIo_6"
    },
    {
      "cell_type": "code",
      "metadata": {
        "id": "YOUzC-WCMIlj",
        "colab": {
          "base_uri": "https://localhost:8080/"
        },
        "outputId": "cd6147df-65a1-4a19-e2df-546276231c17"
      },
      "source": [
        "imgs2 = torch.randn(20,1,128,128,128).cuda()#/500\n",
        "segs2 = torch.randint(1,(20,128,128,128)).long().cuda()\n",
        "list_train = torch.Tensor([2,3,4,5,7,8,10,21,22,24,25,27,28,30,31,33,34,36,37,39,40])\n",
        "list_test = torch.Tensor([1,4,7,10,23,26,29,32,35,38]).long()\n",
        "for i in range(20):\n",
        "    img = nib.load('/content/AbdomenPreAffine/Training/img/img00'+str(int(list_train[i])).zfill(2)+'.nii.gz').get_fdata()\n",
        "    imgs2[i:i+1] = F.interpolate(torch.from_numpy(img).cuda().unsqueeze(0).unsqueeze(1).float(),size=(128,128,128),mode='trilinear').cuda()/500\n",
        "    seg = nib.load('/content/AbdomenPreAffine/Training/label/label00'+str(int(list_train[i])).zfill(2)+'.nii.gz').get_fdata()\n",
        "    segs2[i] = F.interpolate(torch.from_numpy(seg).cuda().unsqueeze(0).unsqueeze(1).float(),size=(128,128,128),mode='nearest').squeeze().cuda().long()\n",
        "    print('Loaded', i+1, '/',20)"
      ],
      "id": "YOUzC-WCMIlj",
      "execution_count": null,
      "outputs": [
        {
          "output_type": "stream",
          "text": [
            "/usr/local/lib/python3.7/dist-packages/torch/nn/functional.py:3458: UserWarning: Default upsampling behavior when mode=trilinear is changed to align_corners=False since 0.4.0. Please specify align_corners=True if the old behavior is desired. See the documentation of nn.Upsample for details.\n",
            "  \"See the documentation of nn.Upsample for details.\".format(mode)\n"
          ],
          "name": "stderr"
        },
        {
          "output_type": "stream",
          "text": [
            "Loaded 1 / 20\n",
            "Loaded 2 / 20\n",
            "Loaded 3 / 20\n",
            "Loaded 4 / 20\n",
            "Loaded 5 / 20\n",
            "Loaded 6 / 20\n",
            "Loaded 7 / 20\n",
            "Loaded 8 / 20\n",
            "Loaded 9 / 20\n",
            "Loaded 10 / 20\n",
            "Loaded 11 / 20\n",
            "Loaded 12 / 20\n",
            "Loaded 13 / 20\n",
            "Loaded 14 / 20\n",
            "Loaded 15 / 20\n",
            "Loaded 16 / 20\n",
            "Loaded 17 / 20\n",
            "Loaded 18 / 20\n",
            "Loaded 19 / 20\n",
            "Loaded 20 / 20\n"
          ],
          "name": "stdout"
        }
      ]
    },
    {
      "cell_type": "markdown",
      "metadata": {
        "id": "7BpfYYqgIyYD"
      },
      "source": [
        "The **validation data** is loaded from the filesystem as:"
      ],
      "id": "7BpfYYqgIyYD"
    },
    {
      "cell_type": "code",
      "metadata": {
        "id": "aRSfkzznI9Mc",
        "colab": {
          "base_uri": "https://localhost:8080/"
        },
        "outputId": "ecf0db21-9ed3-4e6f-9dbb-f1e370078a20"
      },
      "source": [
        "imgs_val = torch.randn(10,1,128,128,128).cuda()#/500\n",
        "segs_val = torch.randint(2,(10,128,128,128)).long().cuda()\n",
        "for i in range(10):\n",
        "    img = nib.load('/content/AbdomenPreAffine/Training/img/img00'+str(int(list_test[i])).zfill(2)+'.nii.gz').get_fdata()\n",
        "    imgs_val[i:i+1] = F.interpolate(torch.from_numpy(img).unsqueeze(0).unsqueeze(1).float(),size=(128,128,128),mode='trilinear').cuda()/500\n",
        "    seg = nib.load('/content/AbdomenPreAffine/Training/label/label00'+str(int(list_test[i])).zfill(2)+'.nii.gz').get_fdata()\n",
        "    segs_val[i] = F.interpolate(torch.from_numpy(seg).unsqueeze(0).unsqueeze(1).float(),size=(128,128,128),mode='nearest').squeeze().cuda().long()\n",
        "    print('Loaded', i+1, '/',10)"
      ],
      "id": "aRSfkzznI9Mc",
      "execution_count": null,
      "outputs": [
        {
          "output_type": "stream",
          "text": [
            "/usr/local/lib/python3.7/dist-packages/torch/nn/functional.py:3458: UserWarning: Default upsampling behavior when mode=trilinear is changed to align_corners=False since 0.4.0. Please specify align_corners=True if the old behavior is desired. See the documentation of nn.Upsample for details.\n",
            "  \"See the documentation of nn.Upsample for details.\".format(mode)\n"
          ],
          "name": "stderr"
        },
        {
          "output_type": "stream",
          "text": [
            "Loaded 1 / 10\n",
            "Loaded 2 / 10\n",
            "Loaded 3 / 10\n",
            "Loaded 4 / 10\n",
            "Loaded 5 / 10\n",
            "Loaded 6 / 10\n",
            "Loaded 7 / 10\n",
            "Loaded 8 / 10\n",
            "Loaded 9 / 10\n",
            "Loaded 10 / 10\n"
          ],
          "name": "stdout"
        }
      ]
    },
    {
      "cell_type": "markdown",
      "metadata": {
        "id": "crO5MzCTJ0D_"
      },
      "source": [
        "All data is being loaded now, thus we can start with the implementation of the following tasks."
      ],
      "id": "crO5MzCTJ0D_"
    },
    {
      "cell_type": "markdown",
      "metadata": {
        "id": "H6QRNRqRx9vP"
      },
      "source": [
        "---\n",
        "\n",
        "**Task 1 (3 points)**: Now you can write your own implementation for an affine augmentation using the `nn.functional` package (already imported in the first cell as `F.`):\n",
        "\n",
        "✔ Define random offsets added to an affine identity matrix\n",
        "\n",
        "✔ Transform the matrix to a PyTorch grid using `F.affine_grid()`\n",
        "\n",
        "✔ Resample image and label using `F.grid_sample()`"
      ],
      "id": "H6QRNRqRx9vP"
    },
    {
      "cell_type": "code",
      "metadata": {
        "id": "JRs0tKd1xJ7H"
      },
      "source": [
        "class AugmentAffine(object):\n",
        "  def __init__(self, strength=0.05):\n",
        "    self.strength = strength\n",
        "\n",
        "  def __call__(self, sample):\n",
        "    B, C, D, H, W = sample['image'].size()# TODO access image data\n",
        "    \n",
        "    offsets = torch.rand(3,4)# TODO random offsets\n",
        "    \n",
        "    affine_matrix = (torch.eye(3, 4).unsqueeze(0) + self.strength * offsets)  \n",
        "    affine_matrix.cuda()\n",
        "\n",
        "    \n",
        "\n",
        "    meshgrid = F.affine_grid(affine_matrix, torch.Size((B, C, D, H, W))).cuda()# TODO resampling grid\n",
        "\n",
        "    #sample['image'].resize_(1,C, D, H, W)\n",
        "\n",
        "    sample['image'] = F.grid_sample(sample['image'], meshgrid)# TODO resample image\n",
        "    sample['label'] = F.grid_sample(sample['label'].unsqueeze(1).type(torch.float), meshgrid)# TODO resample label\n",
        "    sample['label'] = sample['label'].squeeze(1).long()\n",
        "    \n",
        "    return sample\n",
        "  \n",
        "  \n",
        "augmentation_training = [AugmentAffine(0.1), ToCuda()]\n",
        "augmentation_validate = [ToCuda()]"
      ],
      "id": "JRs0tKd1xJ7H",
      "execution_count": null,
      "outputs": []
    },
    {
      "cell_type": "markdown",
      "metadata": {
        "id": "p9LFJifZqiM4"
      },
      "source": [
        "---\n",
        "\n",
        "\n",
        "**Task 2 (7 Points)**: Define a simplified Fully-Convolutional Network (FCN) architecture:\n",
        "\n",
        "✔ Use double 3x3 convolutional blocks, such as in `block0`\n",
        "\n",
        "✔ 3 poolings, and 1 final upsampling\n",
        "\n",
        "✔ Double the channel number, half the spatial resolution\n",
        "\n",
        "✔ To keep it easy: Use padding, so size of feature map after convolution is same as before\n",
        "\n"
      ],
      "id": "p9LFJifZqiM4"
    },
    {
      "cell_type": "code",
      "metadata": {
        "id": "ZtuaD78Yda2y"
      },
      "source": [
        "class Net(nn.Module):\n",
        "  def __init__(self, unet=True):\n",
        "    super().__init__()\n",
        "    \n",
        "    self.block0 = nn.Sequential(nn.BatchNorm3d(1),\n",
        "                                nn.Conv3d(1, 16, 3, padding=1),\n",
        "                                nn.ReLU(),\n",
        "                                nn.BatchNorm3d(16),\n",
        "                                nn.Conv3d(16, 16, 3, padding=1),\n",
        "                                nn.ReLU()\n",
        "                               )\n",
        "                    \n",
        "    self.mp01 = nn.MaxPool3d(2, 2)\n",
        "    \n",
        "    # TODO add two more blocks and two more 2x2 poolings\n",
        "    self.block1 = nn.Sequential(nn.BatchNorm3d(16),\n",
        "                                nn.Conv3d(16, 32, 3, padding=1),\n",
        "                                nn.ReLU(),\n",
        "                                nn.BatchNorm3d(32),\n",
        "                                nn.Conv3d(32, 32, 3, padding=1),\n",
        "                                nn.ReLU()\n",
        "                               )\n",
        "                    \n",
        "    self.mp02 = nn.MaxPool3d(2, 2)\n",
        "\n",
        "    self.block2 = nn.Sequential(nn.BatchNorm3d(32),\n",
        "                                nn.Conv3d(32, 64, 3, padding=1),\n",
        "                                nn.ReLU(),\n",
        "                                nn.BatchNorm3d(64),\n",
        "                                nn.Conv3d(64, 64, 3, padding=1),\n",
        "                                nn.ReLU()\n",
        "                               )\n",
        "                    \n",
        "    self.mp03 = nn.MaxPool3d(2, 2)\n",
        "    \n",
        "    \n",
        "    # TODO add final classifiation block (1x1 convs instead of linear layers)\n",
        "    self.classifier = nn.Sequential(\n",
        "          nn.Conv3d(in_channels=64, out_channels=14, kernel_size=1),\n",
        "          nn.Softmax()\n",
        "         )\n",
        "    \n",
        "    \n",
        "  def forward(self, inputs):\n",
        "    output0 = self.block0(inputs)\n",
        "    output1 = self.mp01(output0)\n",
        "    output2 = self.block1(output1)\n",
        "    output3 = self.mp02(output2)\n",
        "    output4 = self.block2(output3)\n",
        "    output5 = self.mp03(output4)\n",
        "    final_output = self.classifier(output5)\n",
        "    # TODO Add forwards\n",
        "    \n",
        "    return F.interpolate(final_output, scale_factor=8, mode=\"trilinear\")  # TODO Add both values"
      ],
      "id": "ZtuaD78Yda2y",
      "execution_count": null,
      "outputs": []
    },
    {
      "cell_type": "markdown",
      "metadata": {
        "id": "a5dNlP1_ZIac"
      },
      "source": [
        "Let's set up the experiment.\n",
        "\n",
        "First, we need the network model (`net`). The network weights need to be initialized with weights near 1 to avoid vanishing/exploding gradients issues that can later slow down the learning process.\n",
        "\n",
        "Training of neural networks is an optimsation process. Thus, we further need:\n",
        "\n",
        "1.  Parameters of a model to be optimized: ```net.parameters()```\n",
        "2.  Optimization criterion: ```nn.BCELoss``` (binary cross-entropy)\n",
        "3.  Optimizer adapting parameters of (1.) in order to minimize loss (2.): ```torch.optim.Adam```\n",
        "\n",
        "One hyper-parameter of such gradient-descent optimisation is the number of iterations:\n",
        "\n",
        "1.  Number of epochs: ```n_epochs``` (one epoch: processing all training sample batches once)"
      ],
      "id": "a5dNlP1_ZIac"
    },
    {
      "cell_type": "markdown",
      "metadata": {
        "id": "7UqWOKygAtGs"
      },
      "source": [
        "After the set up, we just run the main training routine and watch the loss going down!"
      ],
      "id": "7UqWOKygAtGs"
    },
    {
      "cell_type": "code",
      "metadata": {
        "id": "eEdeRNwSqbwq",
        "colab": {
          "base_uri": "https://localhost:8080/",
          "height": 1000,
          "referenced_widgets": [
            "13ef3526acc84f44b1f4163ca7d636eb",
            "16bc5012405f4c6b819e8d638cd613cf",
            "72445fcb67624397a14cb92cdbcf972f",
            "7e2240ac90c94d66ae4f8b9be4a241f0",
            "2420780381bb42fda46630ab22d85fe3",
            "039d3f5fe495465ca40befd0084f5c96",
            "5761a3d033b248739cf523d7b8396438",
            "57796abedf5b435cb241d6db9c6bc1a7"
          ]
        },
        "outputId": "668c4885-8744-413f-a91c-3b80a6219c36"
      },
      "source": [
        "# Hyper-parameters\n",
        "n_epochs = 25\n",
        "\n",
        "# Visualise progress every 5th epoch\n",
        "every_epoch = 5\n",
        "bin_thresh = 0.3\n",
        "plotter = Plotter(n_epochs//every_epoch, z_slice=23, bin_thresh=bin_thresh)\n",
        "\n",
        "# Network initialisation\n",
        "net = Net(False).cuda()\n",
        "net.apply(init_weights)\n",
        "\n",
        "# Set up optimisation for training process\n",
        "criterion = nn.CrossEntropyLoss().cuda()\n",
        "optimizer = torch.optim.Adam(net.parameters(), lr=0.0001)\n",
        "\n",
        "# Save loss of each epoch\n",
        "losses_training = []\n",
        "losses_validate = []\n",
        "\n",
        "# Show current progress and loss\n",
        "progress = tqdm(range(n_epochs), desc='progress')\n",
        "\n",
        "data_aug = AugmentAffine()\n",
        "\n",
        "\n",
        "######################\n",
        "# MAIN TRAINING LOOP #\n",
        "######################\n",
        "\n",
        "\n",
        "for epoch in progress:\n",
        "  \n",
        "  ########################################\n",
        "  #               TRAINING               #\n",
        "  ########################################\n",
        "\n",
        "  sum_loss = 0\n",
        "  \n",
        "  # Parameters must be trainable\n",
        "  net.train()\n",
        "  with torch.set_grad_enabled(True):  # TODO add bool value\n",
        "    \n",
        "    # loop to process all training samples (packed into batches)\n",
        "    for sample_num in range(len(imgs2)):# TODO draw training sample\n",
        "      sample = {\"image\":imgs2[sample_num][None, ...], \"label\":segs2[sample_num][None, ...]}\n",
        "      sample = data_aug(sample)\n",
        "\n",
        "      result = net(sample[\"image\"].cuda()).cuda()# TODO forward run with sample\n",
        "      loss = criterion(result.cuda(), sample[\"label\"].cuda()).cuda()# TODO compute BCE loss\n",
        "      sample[\"label\"] = sample[\"label\"].unsqueeze(1)\n",
        "\n",
        "      # TODO backward step to compute gradients for optimising the model weights\n",
        "      loss.backward()\n",
        "      optimizer.step()\n",
        "\n",
        "      sum_loss += loss.item()\n",
        "  \n",
        "  losses_training.append(sum_loss / len(imgs2))# TODO add number of training samples)\n",
        "\n",
        "  if epoch % every_epoch == 0:\n",
        "    plotter.add_training_sample(sample, result, epoch)\n",
        "  \n",
        "  \n",
        "  ########################################\n",
        "  #              VALIDATION              #\n",
        "  ########################################\n",
        "\n",
        "  sum_loss = 0\n",
        "  \n",
        "  # Parameters must not be trainable\n",
        "  net.eval()\n",
        "  with torch.set_grad_enabled(False):  # TODO add bool value\n",
        "    \n",
        "    # loop to process all validation samples (packed into batches)\n",
        "    for sample_num in range(len(imgs_val)):# TODO draw validation sample\n",
        "      \n",
        "      # TODO copy and paste the lines required from the training step\n",
        "      sample = {\"image\":imgs_val[sample_num][None, ...], \"label\":segs_val[sample_num][None, ...]}\n",
        "      sample = data_aug(sample)\n",
        "\n",
        "      result = net(sample[\"image\"])# TODO forward run with sample\n",
        "\n",
        "      loss = criterion(result, sample[\"label\"])# TODO compute BCE loss\n",
        "      sample[\"label\"] = sample[\"label\"].unsqueeze(1)\n",
        "      \n",
        "      sum_loss += loss.item()\n",
        "  \n",
        "  losses_validate.append(sum_loss / len(imgs_val))# TODO add number of validation samples))\n",
        "  \n",
        "  if epoch % every_epoch == 0:\n",
        "    plotter.add_validation_sample(sample, result, epoch)\n",
        "  \n",
        "  progress.set_postfix(loss=losses_training[-1], val_loss=losses_validate[-1])"
      ],
      "id": "eEdeRNwSqbwq",
      "execution_count": null,
      "outputs": [
        {
          "output_type": "display_data",
          "data": {
            "application/vnd.jupyter.widget-view+json": {
              "model_id": "13ef3526acc84f44b1f4163ca7d636eb",
              "version_minor": 0,
              "version_major": 2
            },
            "text/plain": [
              "HBox(children=(FloatProgress(value=0.0, description='progress', max=25.0, style=ProgressStyle(description_widt…"
            ]
          },
          "metadata": {
            "tags": []
          }
        },
        {
          "output_type": "stream",
          "text": [
            "/usr/local/lib/python3.7/dist-packages/torch/nn/functional.py:3891: UserWarning: Default grid_sample and affine_grid behavior has changed to align_corners=False since 1.3.0. Please specify align_corners=True if the old behavior is desired. See the documentation of grid_sample for details.\n",
            "  \"Default grid_sample and affine_grid behavior has changed \"\n",
            "/usr/local/lib/python3.7/dist-packages/torch/nn/functional.py:3829: UserWarning: Default grid_sample and affine_grid behavior has changed to align_corners=False since 1.3.0. Please specify align_corners=True if the old behavior is desired. See the documentation of grid_sample for details.\n",
            "  \"Default grid_sample and affine_grid behavior has changed \"\n",
            "/usr/local/lib/python3.7/dist-packages/torch/nn/modules/container.py:119: UserWarning: Implicit dimension choice for softmax has been deprecated. Change the call to include dim=X as an argument.\n",
            "  input = module(input)\n",
            "/usr/local/lib/python3.7/dist-packages/torch/nn/functional.py:3458: UserWarning: Default upsampling behavior when mode=trilinear is changed to align_corners=False since 0.4.0. Please specify align_corners=True if the old behavior is desired. See the documentation of nn.Upsample for details.\n",
            "  \"See the documentation of nn.Upsample for details.\".format(mode)\n"
          ],
          "name": "stderr"
        },
        {
          "output_type": "error",
          "ename": "KeyboardInterrupt",
          "evalue": "ignored",
          "traceback": [
            "\u001b[0;31m---------------------------------------------------------------------------\u001b[0m",
            "\u001b[0;31mKeyboardInterrupt\u001b[0m                         Traceback (most recent call last)",
            "\u001b[0;32m<ipython-input-8-8bf1805a4d24>\u001b[0m in \u001b[0;36m<module>\u001b[0;34m()\u001b[0m\n\u001b[1;32m     55\u001b[0m       \u001b[0moptimizer\u001b[0m\u001b[0;34m.\u001b[0m\u001b[0mstep\u001b[0m\u001b[0;34m(\u001b[0m\u001b[0;34m)\u001b[0m\u001b[0;34m\u001b[0m\u001b[0;34m\u001b[0m\u001b[0m\n\u001b[1;32m     56\u001b[0m \u001b[0;34m\u001b[0m\u001b[0m\n\u001b[0;32m---> 57\u001b[0;31m       \u001b[0msum_loss\u001b[0m \u001b[0;34m+=\u001b[0m \u001b[0mloss\u001b[0m\u001b[0;34m.\u001b[0m\u001b[0mitem\u001b[0m\u001b[0;34m(\u001b[0m\u001b[0;34m)\u001b[0m\u001b[0;34m\u001b[0m\u001b[0;34m\u001b[0m\u001b[0m\n\u001b[0m\u001b[1;32m     58\u001b[0m \u001b[0;34m\u001b[0m\u001b[0m\n\u001b[1;32m     59\u001b[0m   \u001b[0mlosses_training\u001b[0m\u001b[0;34m.\u001b[0m\u001b[0mappend\u001b[0m\u001b[0;34m(\u001b[0m\u001b[0msum_loss\u001b[0m \u001b[0;34m/\u001b[0m \u001b[0mlen\u001b[0m\u001b[0;34m(\u001b[0m\u001b[0mimgs2\u001b[0m\u001b[0;34m)\u001b[0m\u001b[0;34m)\u001b[0m\u001b[0;31m# TODO add number of training samples)\u001b[0m\u001b[0;34m\u001b[0m\u001b[0;34m\u001b[0m\u001b[0m\n",
            "\u001b[0;31mKeyboardInterrupt\u001b[0m: "
          ]
        },
        {
          "output_type": "display_data",
          "data": {
            "image/png": "[encoded data removed]",
            "text/plain": [
              "<Figure size 1296x1800 with 36 Axes>"
            ]
          },
          "metadata": {
            "tags": [],
            "needs_background": "light"
          }
        }
      ]
    },
    {
      "cell_type": "markdown",
      "metadata": {
        "id": "jU_pXYTRs-m8"
      },
      "source": [
        "Let's first check if training has converged. We plot the loss over all training epochs.\n",
        "\n",
        "Thus, we compare the training and validation loss curves:"
      ],
      "id": "jU_pXYTRs-m8"
    },
    {
      "cell_type": "code",
      "metadata": {
        "id": "IGhomWJLpcp0"
      },
      "source": [
        "plt.plot(losses_training, 'r-', linewidth=2)  # training loss in red\n",
        "plt.plot(losses_validate, 'b-', linewidth=2)  # validation loss in blue"
      ],
      "id": "IGhomWJLpcp0",
      "execution_count": null,
      "outputs": []
    },
    {
      "cell_type": "markdown",
      "metadata": {
        "id": "bOtERFa0tikt"
      },
      "source": [
        "Reaching a plateau means, we can hopefully roughly see the segmentation matching the ground truth mask.\n",
        "\n",
        "The following plot rows have been generated every fifth epoch:"
      ],
      "id": "bOtERFa0tikt"
    },
    {
      "cell_type": "code",
      "metadata": {
        "id": "3dCpMZ4G7kH0"
      },
      "source": [
        "def dice_val(f_label, m_label):\n",
        "  numerator = 2.0*torch.sum(f_label.view(-1) * m_label.view(-1))\n",
        "  denominator = torch.sum(f_label.view(-1)) + torch.sum(m_label.view(-1))\n",
        "  return numerator / denominator\n",
        "\n",
        "sum_dice = 0\n",
        "net.train(False)\n",
        "with torch.set_grad_enabled(False):\n",
        "  for sample_num in range(len(imgs_val)):# TODO draw validation sample\n",
        "    sample = {\"image\":imgs_val[sample_num][None, ...], \"label\":segs_val[sample_num][None, ...]}\n",
        "    sample = data_aug(sample)\n",
        "    result = net(sample['image'])  # forward run\n",
        "    sample[\"label\"] = sample[\"label\"].unsqueeze(1)\n",
        "    sum_dice += float(dice_val((result > bin_thresh).float(), sample['label'].float()))\n",
        "print('Dice validation:', sum_dice/len(imgs_val) )"
      ],
      "id": "3dCpMZ4G7kH0",
      "execution_count": null,
      "outputs": []
    },
    {
      "cell_type": "markdown",
      "metadata": {
        "id": "3Qr4Dc6WNGJQ"
      },
      "source": [
        "**Task 3 (4 Points)**: Define the MobileNetV2 architecture\n",
        "\n",
        "✔ Implement a linear bottleneck module\n",
        "\n",
        "✔ Implement a inverted residual block\n",
        "\n",
        "Please have a look at this paper https://arxiv.org/abs/1801.04381 and the exercise slides for reference.\n",
        "\n"
      ],
      "id": "3Qr4Dc6WNGJQ"
    },
    {
      "cell_type": "markdown",
      "metadata": {
        "id": "4ur_RCUPM8Kk"
      },
      "source": [
        "At first we implement the **bottleneck module** for MobileNet:"
      ],
      "id": "4ur_RCUPM8Kk"
    },
    {
      "cell_type": "code",
      "metadata": {
        "id": "tYZNeKSGAIiF"
      },
      "source": [
        "class ConvBNActivation(nn.Sequential):\n",
        "    def __init__(\n",
        "        self,\n",
        "        in_planes: int,\n",
        "        out_planes: int,\n",
        "        kernel_size: int = 3,\n",
        "        stride: int = 1,\n",
        "        groups: int = 1,\n",
        "        norm_layer: Optional[Callable[..., nn.Module]] = None,\n",
        "        activation_layer: Optional[Callable[..., nn.Module]] = None,\n",
        "    ) -> None:\n",
        "        padding = (kernel_size - 1) // 2\n",
        "        if norm_layer is None:\n",
        "            norm_layer = nn.BatchNorm3d# TODO set required layer\n",
        "        if activation_layer is None:\n",
        "            activation_layer = nn.ReLU6# TODO set required layer\n",
        "        super(ConvBNReLU, self).__init__(\n",
        "            nn.Conv3d(in_planes, out_planes, 3, stride, 1, bias=False),# TODO add Conv3d\n",
        "            norm_layer(out_planes),\n",
        "            activation_layer(inplace=True)\n",
        "        )\n",
        "        self.out_channels = out_planes\n",
        "\n",
        "# necessary for backwards compatibility\n",
        "ConvBNReLU = ConvBNActivation\n",
        "\n",
        "# helper function\n",
        "def _make_divisible(v: float, divisor: int, min_value: Optional[int] = None) -> int:\n",
        "    if min_value is None:\n",
        "        min_value = divisor\n",
        "    new_v = max(min_value, int(v + divisor / 2) // divisor * divisor)\n",
        "    # Make sure that round down does not go down by more than 10%.\n",
        "    if new_v < 0.9 * v:\n",
        "        new_v += divisor\n",
        "    return new_v"
      ],
      "id": "tYZNeKSGAIiF",
      "execution_count": null,
      "outputs": []
    },
    {
      "cell_type": "markdown",
      "metadata": {
        "id": "qDfy5MXWAisf"
      },
      "source": [
        "Implement the **inverted residual block** for MobileNet:"
      ],
      "id": "qDfy5MXWAisf"
    },
    {
      "cell_type": "code",
      "metadata": {
        "id": "american-exploration"
      },
      "source": [
        "class InvertedResidual(nn.Module):\n",
        "    def __init__(\n",
        "        self,\n",
        "        inp: int,\n",
        "        oup: int,\n",
        "        stride: int,\n",
        "        expand_ratio: int,\n",
        "        norm_layer: Optional[Callable[..., nn.Module]] = None\n",
        "    ) -> None:\n",
        "        super(InvertedResidual, self).__init__()\n",
        "        self.stride = stride\n",
        "        assert stride in [1, 2]\n",
        "\n",
        "        if norm_layer is None:\n",
        "            norm_layer = nn.BatchNorm3d# TODO set required layer\n",
        "\n",
        "        hidden_dim = int(round(inp * expand_ratio))\n",
        "        self.use_res_connect = self.stride == 1 and inp == oup\n",
        "\n",
        "        layers: List[nn.Module] = []\n",
        "        if expand_ratio != 1:\n",
        "            # TODO add the just generated bottleneck relu (Set appropriate kernel size & input dimension)\n",
        "            layers.append(ConvBNReLU(inp, hidden_dim, 1, 1, 0))\n",
        "        layers.extend([\n",
        "            # TODO add the just generated bottleneck relu (What is the input dimension here?)\n",
        "            ConvBNReLU(hidden_dim, hidden_dim, 3, stride, hidden_dim),\n",
        "            nn.Conv3d(hidden_dim, oup, 1,1,0,bias=False),# TODO add conv3d\n",
        "            # ...\n",
        "            norm_layer(oup),\n",
        "        ])\n",
        "        self.conv = nn.Sequential(*layers)\n",
        "        self.out_channels = oup\n",
        "        self.is_strided = stride > 1\n",
        "\n",
        "    def forward(self, x: Tensor) -> Tensor:\n",
        "        if self.use_res_connect:\n",
        "            # TODO add return for residual \n",
        "            return x + self.conv() \n",
        "        else:\n",
        "            # TODO add alternative return \n",
        "            return x\n"
      ],
      "id": "american-exploration",
      "execution_count": null,
      "outputs": []
    },
    {
      "cell_type": "markdown",
      "metadata": {
        "id": "wd5GPdu3A9E2"
      },
      "source": [
        "Now we have all preliminaries for defining the **MobileNetV2** utilizing our previoulsy implemented residual and bottleneck modules: "
      ],
      "id": "wd5GPdu3A9E2"
    },
    {
      "cell_type": "code",
      "metadata": {
        "id": "C9LpJUl3AC4_"
      },
      "source": [
        "class MobileNetV2(nn.Module):\n",
        "    def __init__(\n",
        "        self,\n",
        "        num_classes: int = 1000,\n",
        "        width_mult: float = 1.0,\n",
        "        inverted_residual_setting: Optional[List[List[int]]] = None,\n",
        "        round_nearest: int = 8,\n",
        "        block: Optional[Callable[..., nn.Module]] = None,\n",
        "        norm_layer: Optional[Callable[..., nn.Module]] = None\n",
        "    ) -> None:\n",
        "        \"\"\"\n",
        "        MobileNet V2 main class\n",
        "\n",
        "        Args:\n",
        "            num_classes (int): Number of classes\n",
        "            width_mult (float): Width multiplier - adjusts number of channels in each layer by this amount\n",
        "            inverted_residual_setting: Network structure\n",
        "            round_nearest (int): Round the number of channels in each layer to be a multiple of this number\n",
        "            Set to 1 to turn off rounding\n",
        "            block: Module specifying inverted residual building block for mobilenet\n",
        "            norm_layer: Module specifying the normalization layer to use\n",
        "\n",
        "        \"\"\"\n",
        "        super(MobileNetV2, self).__init__()\n",
        "\n",
        "        if block is None:\n",
        "            block = InvertedResidual# TODO add required layer \n",
        "\n",
        "        if norm_layer is None:\n",
        "            norm_layer = nn.BatchNorm3d# TODO add required layer \n",
        "\n",
        "        input_channel = 32\n",
        "        last_channel = 1280\n",
        "\n",
        "        if inverted_residual_setting is None:\n",
        "          inverted_residual_setting = [\n",
        "              # t, c, n, s\n",
        "              [1, 16, 1, 1],\n",
        "              [6, 24, 2, 2],\n",
        "              [6, 32, 3, 2],\n",
        "              [6, 64, 4, 2],\n",
        "              [6, 96, 3, 1],\n",
        "              [6, 160, 3, 2],\n",
        "              [6, 320, 1, 1],\n",
        "          ]\n",
        "\n",
        "\n",
        "        # only check the first element, assuming user knows t,c,n,s are required\n",
        "        if len(inverted_residual_setting) == 0 or len(inverted_residual_setting[0]) != 4:\n",
        "            raise ValueError(\"inverted_residual_setting should be non-empty \"\n",
        "                             \"or a 4-element list, got {}\".format(inverted_residual_setting))\n",
        "\n",
        "        # build the first layer\n",
        "        input_channel = _make_divisible(input_channel * width_mult, round_nearest)\n",
        "        \n",
        "        self.last_channel = _make_divisible(last_channel * max(1.0, width_mult), round_nearest)\n",
        "        \n",
        "        self.features: List[nn.Module] = [ConvBNReLU(3, input_channel, 2)]# add bottleneck module\n",
        "        \n",
        "        # building inverted residual blocks\n",
        "        for t, c, n, s in inverted_residual_setting:\n",
        "            output_channel = _make_divisible(c * width_mult, round_nearest)\n",
        "            \n",
        "            for i in range(n):\n",
        "                stride = s if i == 0 else 1\n",
        "                self.features.append(block(input_channel, output_channel, s, expand_ratio=t))\n",
        "                input_channel = output_channel\n",
        "        \n",
        "        # building last several layers\n",
        "        self.features.append(ConvBNActivation(self.last_channel, output_channel, 1, 1, 0)) # TODO add bottleneck\n",
        "        \n",
        "        self.features = nn.Sequential(*self.features)# TODO make it nn.Sequential\n",
        "\n",
        "        # TODO building classifier\n",
        "        self.classifier = nn.Sequential(\n",
        "            nn.Dropout(p=0.2),# TODO add a dropout\n",
        "            # ... \n",
        "            nn.Linear(self.last_channel, num_classes),\n",
        "        )\n",
        "\n",
        "        # weight initialization\n",
        "        for m in self.modules():\n",
        "            if isinstance(m, nn.Conv3d):\n",
        "                nn.init.kaiming_normal_(m.weight, mode='fan_out')\n",
        "                if m.bias is not None:\n",
        "                    nn.init.zeros_(m.bias)\n",
        "            elif isinstance(m, (nn.BatchNorm3d, nn.GroupNorm)):\n",
        "                nn.init.ones_(m.weight)\n",
        "                nn.init.zeros_(m.bias)\n",
        "            elif isinstance(m, nn.Linear):\n",
        "                nn.init.normal_(m.weight, 0, 0.01)\n",
        "                nn.init.zeros_(m.bias)\n",
        "\n",
        "    # This is a helper function bypassing forward due to restrictions in inheritance\n",
        "    def _forward_impl(self, x: Tensor) -> Tensor:\n",
        "        x = self.features(x)# TODO set to input features\n",
        "\n",
        "        # TODO use adaptive average pooling on x (Hint: Use reshape)\n",
        "        aap = nn.AdaptiveAvgPool3d()\n",
        "        x = aap(x).reshape(x.shape[0], -1)# ...\n",
        "        x = self.classifier(x)\n",
        "        return x\n",
        "\n",
        "    def forward(self, x: Tensor) -> Tensor:\n",
        "        return self._forward_impl(x)\n",
        "\n",
        "# setup mobilenet\n",
        "def mobile3dnet(pretrained: bool = False, progress: bool = True, **kwargs: Any) -> MobileNetV2:\n",
        "    model = MobileNetV2(**kwargs)\n",
        "    if pretrained:\n",
        "        state_dict = load_state_dict_from_url(model_urls['mobilenet_v2'],\n",
        "                                              progress=progress)\n",
        "        model.load_state_dict(state_dict)\n",
        "    return model\n"
      ],
      "id": "C9LpJUl3AC4_",
      "execution_count": null,
      "outputs": []
    },
    {
      "cell_type": "markdown",
      "metadata": {
        "id": "riop9RmVNpfG"
      },
      "source": [
        "**Task 4 (6 Points)**: Implement ASPP\n",
        "\n",
        "✔ Implement the ASPPConv block defined as a 3x3 convolution followed by BatchNorm3d and ReLU\n",
        "\n",
        "✔ Implement the ASPPPooling block consisting of a AdaptiveAvgPool3d followed by Conv3d, BatchNorm3d and ReLU blocks\n",
        "\n",
        "✔ Setup ASPP with atrous rates of 2, 4, 8 and 16\n",
        "\n",
        "✔ Train your DeepLabV3 network with MobileNetV2 as backbone \n",
        "\n",
        "✔ Evaluate, visualize and compare the results to the FCN’s output\n",
        "\n",
        "Please also have a look at the paper https://arxiv.org/pdf/1706.05587.pdf and exercise slides.\n"
      ],
      "id": "riop9RmVNpfG"
    },
    {
      "cell_type": "markdown",
      "metadata": {
        "id": "rK4gc1G3Cqml"
      },
      "source": [
        "Implement the **ASPP convolutional** as well as the **ASPP pooling** blocks as follows:"
      ],
      "id": "rK4gc1G3Cqml"
    },
    {
      "cell_type": "code",
      "metadata": {
        "id": "N12iMC-0B5Tv"
      },
      "source": [
        "class ASPPConv(nn.Sequential):\n",
        "    def __init__(self, in_channels, out_channels, dilation):\n",
        "        modules = [\n",
        "            nn.Conv3d(in_channels, out_channels, 3, padding=dilation, dilation=dilation, bias=False),\n",
        "            nn.BatchNorm3d(out_channels),\n",
        "            nn.ReLU()\n",
        "            # TODO add conv3d, batchnorm and relu modules (Remember setting the dilation)\n",
        "            # ...\n",
        "\n",
        "        ]\n",
        "        super(ASPPConv, self).__init__(*modules)\n",
        "\n",
        "\n",
        "class ASPPPooling(nn.Sequential):\n",
        "    def __init__(self, in_channels, out_channels):\n",
        "        super(ASPPPooling, self).__init__(\n",
        "            # TODO add conv3d, batchnorm and relu modules\n",
        "            # ...\n",
        "            nn.Conv3d(in_channels, out_channels, 1, bias=False),\n",
        "            nn.BatchNorm3d(out_channels),\n",
        "            nn.ReLU())\n",
        "\n",
        "    def forward(self, x):\n",
        "        size = x.shape[-2:]# set the size of x    \n",
        "        aap = nn.AdaptiveAvgPool3d(1)       \n",
        "        x = aap(x)# TODO use adaptive average pooling\n",
        "        for mod in self:\n",
        "            x = mod(x)\n",
        "        # TODO finish this, use nearest neighbour interpolation)\n",
        "        return F.interpolate(x, size=size, mode='nearest')"
      ],
      "id": "N12iMC-0B5Tv",
      "execution_count": null,
      "outputs": []
    },
    {
      "cell_type": "markdown",
      "metadata": {
        "id": "aVsXqsXmDLNk"
      },
      "source": [
        "Now we can define **ASPP** while making use of ASPPConv and ASPPPooling blocks:"
      ],
      "id": "aVsXqsXmDLNk"
    },
    {
      "cell_type": "code",
      "metadata": {
        "id": "IPzSRsmbDRhN"
      },
      "source": [
        "class ASPP(nn.Module):\n",
        "    def __init__(self, in_channels, atrous_rates, out_channels=256):\n",
        "        super(ASPP, self).__init__()\n",
        "        modules = []\n",
        "        modules.append(nn.Sequential(\n",
        "            # TODO add conv3d, batchnorm and relu modules\n",
        "            # ...\n",
        "            nn.Conv3d(in_channels, out_channels, 1, bias=False),\n",
        "            nn.BatchNorm3d(out_channels),\n",
        "            nn.ReLU()))\n",
        "        \n",
        "        rates = tuple(atrous_rates)\n",
        "        for rate in rates:\n",
        "            # TODO add ASPPConv blocks with corresponding atrous rate \n",
        "            modules.append(ASPPConv(in_channels, out_channels, rate))\n",
        "        \n",
        "        # TODO add ASPPPooling\n",
        "        modules.append(ASPPPooling(in_channels, out_channels))\n",
        "\n",
        "        self.convs = nn.ModuleList(modules)\n",
        "\n",
        "        self.project = nn.Sequential(\n",
        "            # TODO add conv3d, batchnorm, relu & a final dropout\n",
        "            # ...\n",
        "            nn.Conv3d(len(self.convs) * out_channels, out_channels, 1, bias=False),\n",
        "            nn.BatchNorm3d(out_channels),\n",
        "            nn.ReLU(),\n",
        "            nn.Dropout(0.5))\n",
        "\n",
        "    def forward(self, x):\n",
        "        res = []\n",
        "        for conv in self.convs:\n",
        "            res.append(conv(x))\n",
        "        # TODO concatenate res\n",
        "        res =  torch.cat(res, dim=1)# ...\n",
        "        return self.project(res)"
      ],
      "id": "IPzSRsmbDRhN",
      "execution_count": null,
      "outputs": []
    },
    {
      "cell_type": "markdown",
      "metadata": {
        "id": "tFwDRIU2EmLs"
      },
      "source": [
        "We define our **DeepLabV3** network utilizing **ASPP** with the MobileNetV2 serving as our backbone:"
      ],
      "id": "tFwDRIU2EmLs"
    },
    {
      "cell_type": "code",
      "metadata": {
        "id": "increased-garlic"
      },
      "source": [
        "# initialize backbone feature extractor (MobileNet)\n",
        "backbone = mobile3dnet(width_mult=0.75).features[:11]\n",
        "\n",
        "backbone[0][0].weight.data = backbone[0][0].weight.data[:,:1]\n",
        "backbone[0][0].in_channels = 1\n",
        "\n",
        "# TODO set stride for corresponding layer \n",
        "backbone[4].conv[1][0].stride = (1,1,1)# ...\n",
        "\n",
        "for i in range(5,7):\n",
        "    # TODO set dilatin and padding for corresponding layers\n",
        "    backbone[i].conv[1][0].dilation = (2,2,2)# ...\n",
        "    backbone[i].conv[1][0].padding = (2,2,2)# ...\n",
        "\n",
        "# TODO add stride\n",
        "backbone[7].conv[1][0].stride = (1,1,1)# ...\n",
        "\n",
        "for i in range(8,11):\n",
        "  # TODO set dilatin and padding for corresponding layers\n",
        "    backbone[i].conv[1][0].dilation = (4,4,4)# ...\n",
        "    backbone[i].conv[1][0].padding = (4,4,4)# ...\n",
        "\n",
        "# TODO initialize ASPP with correct atrious rates    \n",
        "aspp = ASPP(24, (2, 4, 8, 16), out_channels=64)\n",
        "\n",
        "x = torch.randn(2,1,96,96,96)\n",
        "\n",
        "num_classes = 14\n",
        "head = nn.Sequential(nn.Conv3d(64, 64, 3, padding=1, bias=False),nn.BatchNorm3d(64),nn.ReLU(),\\\n",
        "                     nn.Conv3d(64, num_classes, 1))"
      ],
      "id": "increased-garlic",
      "execution_count": null,
      "outputs": []
    },
    {
      "cell_type": "code",
      "metadata": {
        "id": "9jwc0fs8y4_x"
      },
      "source": [
        "print(imgs2[0].size())"
      ],
      "id": "9jwc0fs8y4_x",
      "execution_count": null,
      "outputs": []
    },
    {
      "cell_type": "code",
      "metadata": {
        "id": "about-champion",
        "colab": {
          "base_uri": "https://localhost:8080/",
          "height": 1000
        },
        "outputId": "f3e0572c-547f-47b6-8811-ca60fd621a68"
      },
      "source": [
        "# init backbone, ASPP and the head\n",
        "backbone.cuda()\n",
        "aspp.cuda()\n",
        "head.cuda()\n",
        "\n",
        "# TODO setup an Adam optimizer\n",
        "# Hint: You can read the required parameters from backbone/aspp as with the parameters() function \n",
        "optimizer = torch.optim.Adam(aspp.parameters(), lr=0.0001)\n",
        "\n",
        "# A scaler is being used \n",
        "scaler = torch.cuda.amp.GradScaler()\n",
        "import time\n",
        "t0 = time.time()\n",
        "run_loss = torch.zeros(100) \n",
        "for i in range(0, 10):\n",
        "    idx = torch.randperm(20)[:4]\n",
        "    optimizer.zero_grad()\n",
        "\n",
        "    torch.cuda.empty_cache()\n",
        "    print(torch.cuda.memory_summary(device=None, abbreviated=False))\n",
        "\n",
        "    with torch.no_grad():\n",
        "        # TODO add affine augmentation\n",
        "        affine_matrix = ((torch.eye(3, 4)).unsqueeze(0) + torch.randn(4,3,4)*0.05)\n",
        "        affine = F.affine_grid(affine_matrix, (4, 1, 128, 128, 128))\n",
        "        input = F.grid_sample(imgs2[idx],affine.cuda(),padding_mode='border')\n",
        "        target = F.grid_sample(segs2[idx].float().unsqueeze(1),affine.cuda(),mode='nearest').squeeze(1).long()\n",
        "    with torch.cuda.amp.autocast():\n",
        "        # TODO read x as output of head (subsequent to aspp and backbone)\n",
        "        b = checkpoint(backbone,input).cuda()\n",
        "        print(backbone)\n",
        "        del backbone, input\n",
        "        torch.cuda.empty_cache()\n",
        "        print(torch.cuda.memory_summary(device=None, abbreviated=False))\n",
        "        print(aspp)\n",
        "        a = checkpoint(aspp,b)\n",
        "        print(a.shape)\n",
        "        x = head(aspp(backbone(input)))# ...\n",
        "        # TODO upscale x by factor of 4 using trinilear interpolation\n",
        "        output = F.interpolate(x, scale_factor=4, mode=\"trilinear\")# ...\n",
        "        # TODO add cross entropy loss \n",
        "        loss = nn.CrossEntropyLoss().cuda()# ...\n",
        "\n",
        "    scaler.scale(loss).backward()\n",
        "    scaler.step(optimizer)\n",
        "    # Updates the scale for next iteration.\n",
        "    scaler.update()\n",
        "\n",
        "    run_loss[i] = loss.item()\n",
        "\n",
        "    if(i % 10 == 0):\n",
        "        print(i,time.time()-t0,'sec','loss',run_loss[i-8:i-1].mean())"
      ],
      "id": "about-champion",
      "execution_count": null,
      "outputs": [
        {
          "output_type": "stream",
          "text": [
            "|===========================================================================|\n",
            "|                  PyTorch CUDA memory summary, device ID 0                 |\n",
            "|---------------------------------------------------------------------------|\n",
            "|            CUDA OOMs: 0            |        cudaMalloc retries: 0         |\n",
            "|===========================================================================|\n",
            "|        Metric         | Cur Usage  | Peak Usage | Tot Alloc  | Tot Freed  |\n",
            "|---------------------------------------------------------------------------|\n",
            "| Allocated memory      |    6471 MB |    7451 MB |   75977 MB |   69506 MB |\n",
            "|       from large pool |    6464 MB |    7448 MB |   75878 MB |   69413 MB |\n",
            "|       from small pool |       6 MB |       7 MB |      99 MB |      92 MB |\n",
            "|---------------------------------------------------------------------------|\n",
            "| Active memory         |    6471 MB |    7451 MB |   75977 MB |   69506 MB |\n",
            "|       from large pool |    6464 MB |    7448 MB |   75878 MB |   69413 MB |\n",
            "|       from small pool |       6 MB |       7 MB |      99 MB |      92 MB |\n",
            "|---------------------------------------------------------------------------|\n",
            "| GPU reserved memory   |    6492 MB |    7516 MB |   17434 MB |   10942 MB |\n",
            "|       from large pool |    6484 MB |    7508 MB |   17426 MB |   10942 MB |\n",
            "|       from small pool |       8 MB |       8 MB |       8 MB |       0 MB |\n",
            "|---------------------------------------------------------------------------|\n",
            "| Non-releasable memory |   20986 KB |  156198 KB |   10540 MB |   10520 MB |\n",
            "|       from large pool |   19887 KB |  150996 KB |   10425 MB |   10406 MB |\n",
            "|       from small pool |    1099 KB |    5715 KB |     115 MB |     114 MB |\n",
            "|---------------------------------------------------------------------------|\n",
            "| Allocations           |     358    |     360    |    3799    |    3441    |\n",
            "|       from large pool |      25    |      33    |    1087    |    1062    |\n",
            "|       from small pool |     333    |     342    |    2712    |    2379    |\n",
            "|---------------------------------------------------------------------------|\n",
            "| Active allocs         |     358    |     360    |    3799    |    3441    |\n",
            "|       from large pool |      25    |      33    |    1087    |    1062    |\n",
            "|       from small pool |     333    |     342    |    2712    |    2379    |\n",
            "|---------------------------------------------------------------------------|\n",
            "| GPU reserved segments |      18    |      28    |      58    |      40    |\n",
            "|       from large pool |      14    |      24    |      54    |      40    |\n",
            "|       from small pool |       4    |       4    |       4    |       0    |\n",
            "|---------------------------------------------------------------------------|\n",
            "| Non-releasable allocs |       7    |      30    |    1823    |    1816    |\n",
            "|       from large pool |       3    |       6    |     450    |     447    |\n",
            "|       from small pool |       4    |      27    |    1373    |    1369    |\n",
            "|===========================================================================|\n",
            "\n"
          ],
          "name": "stdout"
        },
        {
          "output_type": "stream",
          "text": [
            "/usr/local/lib/python3.7/dist-packages/torch/nn/functional.py:3891: UserWarning: Default grid_sample and affine_grid behavior has changed to align_corners=False since 1.3.0. Please specify align_corners=True if the old behavior is desired. See the documentation of grid_sample for details.\n",
            "  \"Default grid_sample and affine_grid behavior has changed \"\n",
            "/usr/local/lib/python3.7/dist-packages/torch/nn/functional.py:3829: UserWarning: Default grid_sample and affine_grid behavior has changed to align_corners=False since 1.3.0. Please specify align_corners=True if the old behavior is desired. See the documentation of grid_sample for details.\n",
            "  \"Default grid_sample and affine_grid behavior has changed \"\n",
            "/usr/local/lib/python3.7/dist-packages/torch/utils/checkpoint.py:25: UserWarning: None of the inputs have requires_grad=True. Gradients will be None\n",
            "  warnings.warn(\"None of the inputs have requires_grad=True. Gradients will be None\")\n"
          ],
          "name": "stderr"
        },
        {
          "output_type": "stream",
          "text": [
            "Sequential(\n",
            "  (0): ConvBNActivation(\n",
            "    (0): Conv3d(1, 24, kernel_size=(3, 3, 3), stride=(1, 1, 1), padding=(1, 1, 1), bias=False)\n",
            "    (1): BatchNorm3d(24, eps=1e-05, momentum=0.1, affine=True, track_running_stats=True)\n",
            "    (2): ReLU6(inplace=True)\n",
            "  )\n",
            "  (1): InvertedResidual(\n",
            "    (conv): Sequential(\n",
            "      (0): ConvBNActivation(\n",
            "        (0): Conv3d(24, 24, kernel_size=(3, 3, 3), stride=(1, 1, 1), padding=(1, 1, 1), bias=False)\n",
            "        (1): BatchNorm3d(24, eps=1e-05, momentum=0.1, affine=True, track_running_stats=True)\n",
            "        (2): ReLU6(inplace=True)\n",
            "      )\n",
            "      (1): Conv3d(24, 16, kernel_size=(1, 1, 1), stride=(1, 1, 1), bias=False)\n",
            "      (2): BatchNorm3d(16, eps=1e-05, momentum=0.1, affine=True, track_running_stats=True)\n",
            "    )\n",
            "  )\n",
            "  (2): InvertedResidual(\n",
            "    (conv): Sequential(\n",
            "      (0): ConvBNActivation(\n",
            "        (0): Conv3d(16, 96, kernel_size=(3, 3, 3), stride=(1, 1, 1), padding=(1, 1, 1), bias=False)\n",
            "        (1): BatchNorm3d(96, eps=1e-05, momentum=0.1, affine=True, track_running_stats=True)\n",
            "        (2): ReLU6(inplace=True)\n",
            "      )\n",
            "      (1): ConvBNActivation(\n",
            "        (0): Conv3d(96, 96, kernel_size=(3, 3, 3), stride=(2, 2, 2), padding=(1, 1, 1), bias=False)\n",
            "        (1): BatchNorm3d(96, eps=1e-05, momentum=0.1, affine=True, track_running_stats=True)\n",
            "        (2): ReLU6(inplace=True)\n",
            "      )\n",
            "      (2): Conv3d(96, 24, kernel_size=(1, 1, 1), stride=(1, 1, 1), bias=False)\n",
            "      (3): BatchNorm3d(24, eps=1e-05, momentum=0.1, affine=True, track_running_stats=True)\n",
            "    )\n",
            "  )\n",
            "  (3): InvertedResidual(\n",
            "    (conv): Sequential(\n",
            "      (0): ConvBNActivation(\n",
            "        (0): Conv3d(24, 144, kernel_size=(3, 3, 3), stride=(1, 1, 1), padding=(1, 1, 1), bias=False)\n",
            "        (1): BatchNorm3d(144, eps=1e-05, momentum=0.1, affine=True, track_running_stats=True)\n",
            "        (2): ReLU6(inplace=True)\n",
            "      )\n",
            "      (1): ConvBNActivation(\n",
            "        (0): Conv3d(144, 144, kernel_size=(3, 3, 3), stride=(2, 2, 2), padding=(1, 1, 1), bias=False)\n",
            "        (1): BatchNorm3d(144, eps=1e-05, momentum=0.1, affine=True, track_running_stats=True)\n",
            "        (2): ReLU6(inplace=True)\n",
            "      )\n",
            "      (2): Conv3d(144, 24, kernel_size=(1, 1, 1), stride=(1, 1, 1), bias=False)\n",
            "      (3): BatchNorm3d(24, eps=1e-05, momentum=0.1, affine=True, track_running_stats=True)\n",
            "    )\n",
            "  )\n",
            "  (4): InvertedResidual(\n",
            "    (conv): Sequential(\n",
            "      (0): ConvBNActivation(\n",
            "        (0): Conv3d(24, 144, kernel_size=(3, 3, 3), stride=(1, 1, 1), padding=(1, 1, 1), bias=False)\n",
            "        (1): BatchNorm3d(144, eps=1e-05, momentum=0.1, affine=True, track_running_stats=True)\n",
            "        (2): ReLU6(inplace=True)\n",
            "      )\n",
            "      (1): ConvBNActivation(\n",
            "        (0): Conv3d(144, 144, kernel_size=(3, 3, 3), stride=(1, 1, 1), padding=(1, 1, 1), bias=False)\n",
            "        (1): BatchNorm3d(144, eps=1e-05, momentum=0.1, affine=True, track_running_stats=True)\n",
            "        (2): ReLU6(inplace=True)\n",
            "      )\n",
            "      (2): Conv3d(144, 24, kernel_size=(1, 1, 1), stride=(1, 1, 1), bias=False)\n",
            "      (3): BatchNorm3d(24, eps=1e-05, momentum=0.1, affine=True, track_running_stats=True)\n",
            "    )\n",
            "  )\n",
            "  (5): InvertedResidual(\n",
            "    (conv): Sequential(\n",
            "      (0): ConvBNActivation(\n",
            "        (0): Conv3d(24, 144, kernel_size=(3, 3, 3), stride=(1, 1, 1), padding=(1, 1, 1), bias=False)\n",
            "        (1): BatchNorm3d(144, eps=1e-05, momentum=0.1, affine=True, track_running_stats=True)\n",
            "        (2): ReLU6(inplace=True)\n",
            "      )\n",
            "      (1): ConvBNActivation(\n",
            "        (0): Conv3d(144, 144, kernel_size=(3, 3, 3), stride=(2, 2, 2), padding=(2, 2, 2), dilation=(2, 2, 2), bias=False)\n",
            "        (1): BatchNorm3d(144, eps=1e-05, momentum=0.1, affine=True, track_running_stats=True)\n",
            "        (2): ReLU6(inplace=True)\n",
            "      )\n",
            "      (2): Conv3d(144, 24, kernel_size=(1, 1, 1), stride=(1, 1, 1), bias=False)\n",
            "      (3): BatchNorm3d(24, eps=1e-05, momentum=0.1, affine=True, track_running_stats=True)\n",
            "    )\n",
            "  )\n",
            "  (6): InvertedResidual(\n",
            "    (conv): Sequential(\n",
            "      (0): ConvBNActivation(\n",
            "        (0): Conv3d(24, 144, kernel_size=(3, 3, 3), stride=(1, 1, 1), padding=(1, 1, 1), bias=False)\n",
            "        (1): BatchNorm3d(144, eps=1e-05, momentum=0.1, affine=True, track_running_stats=True)\n",
            "        (2): ReLU6(inplace=True)\n",
            "      )\n",
            "      (1): ConvBNActivation(\n",
            "        (0): Conv3d(144, 144, kernel_size=(3, 3, 3), stride=(2, 2, 2), padding=(2, 2, 2), dilation=(2, 2, 2), bias=False)\n",
            "        (1): BatchNorm3d(144, eps=1e-05, momentum=0.1, affine=True, track_running_stats=True)\n",
            "        (2): ReLU6(inplace=True)\n",
            "      )\n",
            "      (2): Conv3d(144, 24, kernel_size=(1, 1, 1), stride=(1, 1, 1), bias=False)\n",
            "      (3): BatchNorm3d(24, eps=1e-05, momentum=0.1, affine=True, track_running_stats=True)\n",
            "    )\n",
            "  )\n",
            "  (7): InvertedResidual(\n",
            "    (conv): Sequential(\n",
            "      (0): ConvBNActivation(\n",
            "        (0): Conv3d(24, 144, kernel_size=(3, 3, 3), stride=(1, 1, 1), padding=(1, 1, 1), bias=False)\n",
            "        (1): BatchNorm3d(144, eps=1e-05, momentum=0.1, affine=True, track_running_stats=True)\n",
            "        (2): ReLU6(inplace=True)\n",
            "      )\n",
            "      (1): ConvBNActivation(\n",
            "        (0): Conv3d(144, 144, kernel_size=(3, 3, 3), stride=(1, 1, 1), padding=(1, 1, 1), bias=False)\n",
            "        (1): BatchNorm3d(144, eps=1e-05, momentum=0.1, affine=True, track_running_stats=True)\n",
            "        (2): ReLU6(inplace=True)\n",
            "      )\n",
            "      (2): Conv3d(144, 48, kernel_size=(1, 1, 1), stride=(1, 1, 1), bias=False)\n",
            "      (3): BatchNorm3d(48, eps=1e-05, momentum=0.1, affine=True, track_running_stats=True)\n",
            "    )\n",
            "  )\n",
            "  (8): InvertedResidual(\n",
            "    (conv): Sequential(\n",
            "      (0): ConvBNActivation(\n",
            "        (0): Conv3d(48, 288, kernel_size=(3, 3, 3), stride=(1, 1, 1), padding=(1, 1, 1), bias=False)\n",
            "        (1): BatchNorm3d(288, eps=1e-05, momentum=0.1, affine=True, track_running_stats=True)\n",
            "        (2): ReLU6(inplace=True)\n",
            "      )\n",
            "      (1): ConvBNActivation(\n",
            "        (0): Conv3d(288, 288, kernel_size=(3, 3, 3), stride=(2, 2, 2), padding=(4, 4, 4), dilation=(4, 4, 4), bias=False)\n",
            "        (1): BatchNorm3d(288, eps=1e-05, momentum=0.1, affine=True, track_running_stats=True)\n",
            "        (2): ReLU6(inplace=True)\n",
            "      )\n",
            "      (2): Conv3d(288, 48, kernel_size=(1, 1, 1), stride=(1, 1, 1), bias=False)\n",
            "      (3): BatchNorm3d(48, eps=1e-05, momentum=0.1, affine=True, track_running_stats=True)\n",
            "    )\n",
            "  )\n",
            "  (9): InvertedResidual(\n",
            "    (conv): Sequential(\n",
            "      (0): ConvBNActivation(\n",
            "        (0): Conv3d(48, 288, kernel_size=(3, 3, 3), stride=(1, 1, 1), padding=(1, 1, 1), bias=False)\n",
            "        (1): BatchNorm3d(288, eps=1e-05, momentum=0.1, affine=True, track_running_stats=True)\n",
            "        (2): ReLU6(inplace=True)\n",
            "      )\n",
            "      (1): ConvBNActivation(\n",
            "        (0): Conv3d(288, 288, kernel_size=(3, 3, 3), stride=(2, 2, 2), padding=(4, 4, 4), dilation=(4, 4, 4), bias=False)\n",
            "        (1): BatchNorm3d(288, eps=1e-05, momentum=0.1, affine=True, track_running_stats=True)\n",
            "        (2): ReLU6(inplace=True)\n",
            "      )\n",
            "      (2): Conv3d(288, 48, kernel_size=(1, 1, 1), stride=(1, 1, 1), bias=False)\n",
            "      (3): BatchNorm3d(48, eps=1e-05, momentum=0.1, affine=True, track_running_stats=True)\n",
            "    )\n",
            "  )\n",
            "  (10): InvertedResidual(\n",
            "    (conv): Sequential(\n",
            "      (0): ConvBNActivation(\n",
            "        (0): Conv3d(48, 288, kernel_size=(3, 3, 3), stride=(1, 1, 1), padding=(1, 1, 1), bias=False)\n",
            "        (1): BatchNorm3d(288, eps=1e-05, momentum=0.1, affine=True, track_running_stats=True)\n",
            "        (2): ReLU6(inplace=True)\n",
            "      )\n",
            "      (1): ConvBNActivation(\n",
            "        (0): Conv3d(288, 288, kernel_size=(3, 3, 3), stride=(2, 2, 2), padding=(4, 4, 4), dilation=(4, 4, 4), bias=False)\n",
            "        (1): BatchNorm3d(288, eps=1e-05, momentum=0.1, affine=True, track_running_stats=True)\n",
            "        (2): ReLU6(inplace=True)\n",
            "      )\n",
            "      (2): Conv3d(288, 48, kernel_size=(1, 1, 1), stride=(1, 1, 1), bias=False)\n",
            "      (3): BatchNorm3d(48, eps=1e-05, momentum=0.1, affine=True, track_running_stats=True)\n",
            "    )\n",
            "  )\n",
            ")\n",
            "|===========================================================================|\n",
            "|                  PyTorch CUDA memory summary, device ID 0                 |\n",
            "|---------------------------------------------------------------------------|\n",
            "|            CUDA OOMs: 0            |        cudaMalloc retries: 0         |\n",
            "|===========================================================================|\n",
            "|        Metric         | Cur Usage  | Peak Usage | Tot Alloc  | Tot Freed  |\n",
            "|---------------------------------------------------------------------------|\n",
            "| Allocated memory      |    6811 MB |    7451 MB |   77210 MB |   70398 MB |\n",
            "|       from large pool |    6808 MB |    7448 MB |   77110 MB |   70302 MB |\n",
            "|       from small pool |       3 MB |       7 MB |      99 MB |      96 MB |\n",
            "|---------------------------------------------------------------------------|\n",
            "| Active memory         |    6811 MB |    7451 MB |   77210 MB |   70398 MB |\n",
            "|       from large pool |    6808 MB |    7448 MB |   77110 MB |   70302 MB |\n",
            "|       from small pool |       3 MB |       7 MB |      99 MB |      96 MB |\n",
            "|---------------------------------------------------------------------------|\n",
            "| GPU reserved memory   |    6876 MB |    7516 MB |   18458 MB |   11582 MB |\n",
            "|       from large pool |    6868 MB |    7508 MB |   18450 MB |   11582 MB |\n",
            "|       from small pool |       8 MB |       8 MB |       8 MB |       0 MB |\n",
            "|---------------------------------------------------------------------------|\n",
            "| Non-releasable memory |   65931 KB |  156198 KB |   10784 MB |   10719 MB |\n",
            "|       from large pool |   61440 KB |  150996 KB |   10665 MB |   10605 MB |\n",
            "|       from small pool |    4491 KB |    5715 KB |     118 MB |     114 MB |\n",
            "|---------------------------------------------------------------------------|\n",
            "| Allocations           |     180    |     364    |    3816    |    3636    |\n",
            "|       from large pool |      15    |      33    |    1098    |    1083    |\n",
            "|       from small pool |     165    |     342    |    2718    |    2553    |\n",
            "|---------------------------------------------------------------------------|\n",
            "| Active allocs         |     180    |     364    |    3816    |    3636    |\n",
            "|       from large pool |      15    |      33    |    1098    |    1083    |\n",
            "|       from small pool |     165    |     342    |    2718    |    2553    |\n",
            "|---------------------------------------------------------------------------|\n",
            "| GPU reserved segments |      19    |      28    |      64    |      45    |\n",
            "|       from large pool |      15    |      24    |      60    |      45    |\n",
            "|       from small pool |       4    |       4    |       4    |       0    |\n",
            "|---------------------------------------------------------------------------|\n",
            "| Non-releasable allocs |      22    |      30    |    1849    |    1827    |\n",
            "|       from large pool |       3    |       6    |     456    |     453    |\n",
            "|       from small pool |      19    |      27    |    1393    |    1374    |\n",
            "|===========================================================================|\n",
            "\n",
            "ASPP(\n",
            "  (convs): ModuleList(\n",
            "    (0): Sequential(\n",
            "      (0): Conv3d(24, 64, kernel_size=(1, 1, 1), stride=(1, 1, 1), bias=False)\n",
            "      (1): BatchNorm3d(64, eps=1e-05, momentum=0.1, affine=True, track_running_stats=True)\n",
            "      (2): ReLU()\n",
            "    )\n",
            "    (1): ASPPConv(\n",
            "      (0): Conv3d(24, 64, kernel_size=(3, 3, 3), stride=(1, 1, 1), padding=(2, 2, 2), dilation=(2, 2, 2), bias=False)\n",
            "      (1): BatchNorm3d(64, eps=1e-05, momentum=0.1, affine=True, track_running_stats=True)\n",
            "      (2): ReLU()\n",
            "    )\n",
            "    (2): ASPPConv(\n",
            "      (0): Conv3d(24, 64, kernel_size=(3, 3, 3), stride=(1, 1, 1), padding=(4, 4, 4), dilation=(4, 4, 4), bias=False)\n",
            "      (1): BatchNorm3d(64, eps=1e-05, momentum=0.1, affine=True, track_running_stats=True)\n",
            "      (2): ReLU()\n",
            "    )\n",
            "    (3): ASPPConv(\n",
            "      (0): Conv3d(24, 64, kernel_size=(3, 3, 3), stride=(1, 1, 1), padding=(8, 8, 8), dilation=(8, 8, 8), bias=False)\n",
            "      (1): BatchNorm3d(64, eps=1e-05, momentum=0.1, affine=True, track_running_stats=True)\n",
            "      (2): ReLU()\n",
            "    )\n",
            "    (4): ASPPConv(\n",
            "      (0): Conv3d(24, 64, kernel_size=(3, 3, 3), stride=(1, 1, 1), padding=(16, 16, 16), dilation=(16, 16, 16), bias=False)\n",
            "      (1): BatchNorm3d(64, eps=1e-05, momentum=0.1, affine=True, track_running_stats=True)\n",
            "      (2): ReLU()\n",
            "    )\n",
            "    (5): ASPPPooling(\n",
            "      (0): Conv3d(24, 64, kernel_size=(1, 1, 1), stride=(1, 1, 1), bias=False)\n",
            "      (1): BatchNorm3d(64, eps=1e-05, momentum=0.1, affine=True, track_running_stats=True)\n",
            "      (2): ReLU()\n",
            "    )\n",
            "  )\n",
            "  (project): Sequential(\n",
            "    (0): Conv3d(384, 64, kernel_size=(1, 1, 1), stride=(1, 1, 1), bias=False)\n",
            "    (1): BatchNorm3d(64, eps=1e-05, momentum=0.1, affine=True, track_running_stats=True)\n",
            "    (2): ReLU()\n",
            "    (3): Dropout(p=0.5, inplace=False)\n",
            "  )\n",
            ")\n"
          ],
          "name": "stdout"
        },
        {
          "output_type": "error",
          "ename": "RuntimeError",
          "evalue": "ignored",
          "traceback": [
            "\u001b[0;31m---------------------------------------------------------------------------\u001b[0m",
            "\u001b[0;31mRuntimeError\u001b[0m                              Traceback (most recent call last)",
            "\u001b[0;32m<ipython-input-26-1d68744e9e0d>\u001b[0m in \u001b[0;36m<module>\u001b[0;34m()\u001b[0m\n\u001b[1;32m     34\u001b[0m         \u001b[0mprint\u001b[0m\u001b[0;34m(\u001b[0m\u001b[0mtorch\u001b[0m\u001b[0;34m.\u001b[0m\u001b[0mcuda\u001b[0m\u001b[0;34m.\u001b[0m\u001b[0mmemory_summary\u001b[0m\u001b[0;34m(\u001b[0m\u001b[0mdevice\u001b[0m\u001b[0;34m=\u001b[0m\u001b[0;32mNone\u001b[0m\u001b[0;34m,\u001b[0m \u001b[0mabbreviated\u001b[0m\u001b[0;34m=\u001b[0m\u001b[0;32mFalse\u001b[0m\u001b[0;34m)\u001b[0m\u001b[0;34m)\u001b[0m\u001b[0;34m\u001b[0m\u001b[0;34m\u001b[0m\u001b[0m\n\u001b[1;32m     35\u001b[0m         \u001b[0mprint\u001b[0m\u001b[0;34m(\u001b[0m\u001b[0maspp\u001b[0m\u001b[0;34m)\u001b[0m\u001b[0;34m\u001b[0m\u001b[0;34m\u001b[0m\u001b[0m\n\u001b[0;32m---> 36\u001b[0;31m         \u001b[0ma\u001b[0m \u001b[0;34m=\u001b[0m \u001b[0mcheckpoint\u001b[0m\u001b[0;34m(\u001b[0m\u001b[0maspp\u001b[0m\u001b[0;34m,\u001b[0m\u001b[0mb\u001b[0m\u001b[0;34m)\u001b[0m\u001b[0;34m\u001b[0m\u001b[0;34m\u001b[0m\u001b[0m\n\u001b[0m\u001b[1;32m     37\u001b[0m         \u001b[0mprint\u001b[0m\u001b[0;34m(\u001b[0m\u001b[0ma\u001b[0m\u001b[0;34m.\u001b[0m\u001b[0mshape\u001b[0m\u001b[0;34m)\u001b[0m\u001b[0;34m\u001b[0m\u001b[0;34m\u001b[0m\u001b[0m\n\u001b[1;32m     38\u001b[0m         \u001b[0mx\u001b[0m \u001b[0;34m=\u001b[0m \u001b[0mhead\u001b[0m\u001b[0;34m(\u001b[0m\u001b[0maspp\u001b[0m\u001b[0;34m(\u001b[0m\u001b[0mbackbone\u001b[0m\u001b[0;34m(\u001b[0m\u001b[0minput\u001b[0m\u001b[0;34m)\u001b[0m\u001b[0;34m)\u001b[0m\u001b[0;34m)\u001b[0m\u001b[0;31m# ...\u001b[0m\u001b[0;34m\u001b[0m\u001b[0;34m\u001b[0m\u001b[0m\n",
            "\u001b[0;32m/usr/local/lib/python3.7/dist-packages/torch/utils/checkpoint.py\u001b[0m in \u001b[0;36mcheckpoint\u001b[0;34m(function, *args, **kwargs)\u001b[0m\n\u001b[1;32m    175\u001b[0m         \u001b[0;32mraise\u001b[0m \u001b[0mValueError\u001b[0m\u001b[0;34m(\u001b[0m\u001b[0;34m\"Unexpected keyword arguments: \"\u001b[0m \u001b[0;34m+\u001b[0m \u001b[0;34m\",\"\u001b[0m\u001b[0;34m.\u001b[0m\u001b[0mjoin\u001b[0m\u001b[0;34m(\u001b[0m\u001b[0marg\u001b[0m \u001b[0;32mfor\u001b[0m \u001b[0marg\u001b[0m \u001b[0;32min\u001b[0m \u001b[0mkwargs\u001b[0m\u001b[0;34m)\u001b[0m\u001b[0;34m)\u001b[0m\u001b[0;34m\u001b[0m\u001b[0;34m\u001b[0m\u001b[0m\n\u001b[1;32m    176\u001b[0m \u001b[0;34m\u001b[0m\u001b[0m\n\u001b[0;32m--> 177\u001b[0;31m     \u001b[0;32mreturn\u001b[0m \u001b[0mCheckpointFunction\u001b[0m\u001b[0;34m.\u001b[0m\u001b[0mapply\u001b[0m\u001b[0;34m(\u001b[0m\u001b[0mfunction\u001b[0m\u001b[0;34m,\u001b[0m \u001b[0mpreserve\u001b[0m\u001b[0;34m,\u001b[0m \u001b[0;34m*\u001b[0m\u001b[0margs\u001b[0m\u001b[0;34m)\u001b[0m\u001b[0;34m\u001b[0m\u001b[0;34m\u001b[0m\u001b[0m\n\u001b[0m\u001b[1;32m    178\u001b[0m \u001b[0;34m\u001b[0m\u001b[0m\n\u001b[1;32m    179\u001b[0m \u001b[0;34m\u001b[0m\u001b[0m\n",
            "\u001b[0;32m/usr/local/lib/python3.7/dist-packages/torch/utils/checkpoint.py\u001b[0m in \u001b[0;36mforward\u001b[0;34m(ctx, run_function, preserve_rng_state, *args)\u001b[0m\n\u001b[1;32m     73\u001b[0m         \u001b[0mctx\u001b[0m\u001b[0;34m.\u001b[0m\u001b[0msave_for_backward\u001b[0m\u001b[0;34m(\u001b[0m\u001b[0;34m*\u001b[0m\u001b[0margs\u001b[0m\u001b[0;34m)\u001b[0m\u001b[0;34m\u001b[0m\u001b[0;34m\u001b[0m\u001b[0m\n\u001b[1;32m     74\u001b[0m         \u001b[0;32mwith\u001b[0m \u001b[0mtorch\u001b[0m\u001b[0;34m.\u001b[0m\u001b[0mno_grad\u001b[0m\u001b[0;34m(\u001b[0m\u001b[0;34m)\u001b[0m\u001b[0;34m:\u001b[0m\u001b[0;34m\u001b[0m\u001b[0;34m\u001b[0m\u001b[0m\n\u001b[0;32m---> 75\u001b[0;31m             \u001b[0moutputs\u001b[0m \u001b[0;34m=\u001b[0m \u001b[0mrun_function\u001b[0m\u001b[0;34m(\u001b[0m\u001b[0;34m*\u001b[0m\u001b[0margs\u001b[0m\u001b[0;34m)\u001b[0m\u001b[0;34m\u001b[0m\u001b[0;34m\u001b[0m\u001b[0m\n\u001b[0m\u001b[1;32m     76\u001b[0m         \u001b[0;32mreturn\u001b[0m \u001b[0moutputs\u001b[0m\u001b[0;34m\u001b[0m\u001b[0;34m\u001b[0m\u001b[0m\n\u001b[1;32m     77\u001b[0m \u001b[0;34m\u001b[0m\u001b[0m\n",
            "\u001b[0;32m/usr/local/lib/python3.7/dist-packages/torch/nn/modules/module.py\u001b[0m in \u001b[0;36m_call_impl\u001b[0;34m(self, *input, **kwargs)\u001b[0m\n\u001b[1;32m    887\u001b[0m             \u001b[0mresult\u001b[0m \u001b[0;34m=\u001b[0m \u001b[0mself\u001b[0m\u001b[0;34m.\u001b[0m\u001b[0m_slow_forward\u001b[0m\u001b[0;34m(\u001b[0m\u001b[0;34m*\u001b[0m\u001b[0minput\u001b[0m\u001b[0;34m,\u001b[0m \u001b[0;34m**\u001b[0m\u001b[0mkwargs\u001b[0m\u001b[0;34m)\u001b[0m\u001b[0;34m\u001b[0m\u001b[0;34m\u001b[0m\u001b[0m\n\u001b[1;32m    888\u001b[0m         \u001b[0;32melse\u001b[0m\u001b[0;34m:\u001b[0m\u001b[0;34m\u001b[0m\u001b[0;34m\u001b[0m\u001b[0m\n\u001b[0;32m--> 889\u001b[0;31m             \u001b[0mresult\u001b[0m \u001b[0;34m=\u001b[0m \u001b[0mself\u001b[0m\u001b[0;34m.\u001b[0m\u001b[0mforward\u001b[0m\u001b[0;34m(\u001b[0m\u001b[0;34m*\u001b[0m\u001b[0minput\u001b[0m\u001b[0;34m,\u001b[0m \u001b[0;34m**\u001b[0m\u001b[0mkwargs\u001b[0m\u001b[0;34m)\u001b[0m\u001b[0;34m\u001b[0m\u001b[0;34m\u001b[0m\u001b[0m\n\u001b[0m\u001b[1;32m    890\u001b[0m         for hook in itertools.chain(\n\u001b[1;32m    891\u001b[0m                 \u001b[0m_global_forward_hooks\u001b[0m\u001b[0;34m.\u001b[0m\u001b[0mvalues\u001b[0m\u001b[0;34m(\u001b[0m\u001b[0;34m)\u001b[0m\u001b[0;34m,\u001b[0m\u001b[0;34m\u001b[0m\u001b[0;34m\u001b[0m\u001b[0m\n",
            "\u001b[0;32m<ipython-input-14-b90a04b63055>\u001b[0m in \u001b[0;36mforward\u001b[0;34m(self, x)\u001b[0m\n\u001b[1;32m     31\u001b[0m         \u001b[0mres\u001b[0m \u001b[0;34m=\u001b[0m \u001b[0;34m[\u001b[0m\u001b[0;34m]\u001b[0m\u001b[0;34m\u001b[0m\u001b[0;34m\u001b[0m\u001b[0m\n\u001b[1;32m     32\u001b[0m         \u001b[0;32mfor\u001b[0m \u001b[0mconv\u001b[0m \u001b[0;32min\u001b[0m \u001b[0mself\u001b[0m\u001b[0;34m.\u001b[0m\u001b[0mconvs\u001b[0m\u001b[0;34m:\u001b[0m\u001b[0;34m\u001b[0m\u001b[0;34m\u001b[0m\u001b[0m\n\u001b[0;32m---> 33\u001b[0;31m             \u001b[0mres\u001b[0m\u001b[0;34m.\u001b[0m\u001b[0mappend\u001b[0m\u001b[0;34m(\u001b[0m\u001b[0mconv\u001b[0m\u001b[0;34m(\u001b[0m\u001b[0mx\u001b[0m\u001b[0;34m)\u001b[0m\u001b[0;34m)\u001b[0m\u001b[0;34m\u001b[0m\u001b[0;34m\u001b[0m\u001b[0m\n\u001b[0m\u001b[1;32m     34\u001b[0m         \u001b[0;31m# TODO concatenate res\u001b[0m\u001b[0;34m\u001b[0m\u001b[0;34m\u001b[0m\u001b[0;34m\u001b[0m\u001b[0m\n\u001b[1;32m     35\u001b[0m         \u001b[0mres\u001b[0m \u001b[0;34m=\u001b[0m  \u001b[0mtorch\u001b[0m\u001b[0;34m.\u001b[0m\u001b[0mcat\u001b[0m\u001b[0;34m(\u001b[0m\u001b[0mres\u001b[0m\u001b[0;34m,\u001b[0m \u001b[0mdim\u001b[0m\u001b[0;34m=\u001b[0m\u001b[0;36m1\u001b[0m\u001b[0;34m)\u001b[0m\u001b[0;31m# ...\u001b[0m\u001b[0;34m\u001b[0m\u001b[0;34m\u001b[0m\u001b[0m\n",
            "\u001b[0;32m/usr/local/lib/python3.7/dist-packages/torch/nn/modules/module.py\u001b[0m in \u001b[0;36m_call_impl\u001b[0;34m(self, *input, **kwargs)\u001b[0m\n\u001b[1;32m    887\u001b[0m             \u001b[0mresult\u001b[0m \u001b[0;34m=\u001b[0m \u001b[0mself\u001b[0m\u001b[0;34m.\u001b[0m\u001b[0m_slow_forward\u001b[0m\u001b[0;34m(\u001b[0m\u001b[0;34m*\u001b[0m\u001b[0minput\u001b[0m\u001b[0;34m,\u001b[0m \u001b[0;34m**\u001b[0m\u001b[0mkwargs\u001b[0m\u001b[0;34m)\u001b[0m\u001b[0;34m\u001b[0m\u001b[0;34m\u001b[0m\u001b[0m\n\u001b[1;32m    888\u001b[0m         \u001b[0;32melse\u001b[0m\u001b[0;34m:\u001b[0m\u001b[0;34m\u001b[0m\u001b[0;34m\u001b[0m\u001b[0m\n\u001b[0;32m--> 889\u001b[0;31m             \u001b[0mresult\u001b[0m \u001b[0;34m=\u001b[0m \u001b[0mself\u001b[0m\u001b[0;34m.\u001b[0m\u001b[0mforward\u001b[0m\u001b[0;34m(\u001b[0m\u001b[0;34m*\u001b[0m\u001b[0minput\u001b[0m\u001b[0;34m,\u001b[0m \u001b[0;34m**\u001b[0m\u001b[0mkwargs\u001b[0m\u001b[0;34m)\u001b[0m\u001b[0;34m\u001b[0m\u001b[0;34m\u001b[0m\u001b[0m\n\u001b[0m\u001b[1;32m    890\u001b[0m         for hook in itertools.chain(\n\u001b[1;32m    891\u001b[0m                 \u001b[0m_global_forward_hooks\u001b[0m\u001b[0;34m.\u001b[0m\u001b[0mvalues\u001b[0m\u001b[0;34m(\u001b[0m\u001b[0;34m)\u001b[0m\u001b[0;34m,\u001b[0m\u001b[0;34m\u001b[0m\u001b[0;34m\u001b[0m\u001b[0m\n",
            "\u001b[0;32m/usr/local/lib/python3.7/dist-packages/torch/nn/modules/container.py\u001b[0m in \u001b[0;36mforward\u001b[0;34m(self, input)\u001b[0m\n\u001b[1;32m    117\u001b[0m     \u001b[0;32mdef\u001b[0m \u001b[0mforward\u001b[0m\u001b[0;34m(\u001b[0m\u001b[0mself\u001b[0m\u001b[0;34m,\u001b[0m \u001b[0minput\u001b[0m\u001b[0;34m)\u001b[0m\u001b[0;34m:\u001b[0m\u001b[0;34m\u001b[0m\u001b[0;34m\u001b[0m\u001b[0m\n\u001b[1;32m    118\u001b[0m         \u001b[0;32mfor\u001b[0m \u001b[0mmodule\u001b[0m \u001b[0;32min\u001b[0m \u001b[0mself\u001b[0m\u001b[0;34m:\u001b[0m\u001b[0;34m\u001b[0m\u001b[0;34m\u001b[0m\u001b[0m\n\u001b[0;32m--> 119\u001b[0;31m             \u001b[0minput\u001b[0m \u001b[0;34m=\u001b[0m \u001b[0mmodule\u001b[0m\u001b[0;34m(\u001b[0m\u001b[0minput\u001b[0m\u001b[0;34m)\u001b[0m\u001b[0;34m\u001b[0m\u001b[0;34m\u001b[0m\u001b[0m\n\u001b[0m\u001b[1;32m    120\u001b[0m         \u001b[0;32mreturn\u001b[0m \u001b[0minput\u001b[0m\u001b[0;34m\u001b[0m\u001b[0;34m\u001b[0m\u001b[0m\n\u001b[1;32m    121\u001b[0m \u001b[0;34m\u001b[0m\u001b[0m\n",
            "\u001b[0;32m/usr/local/lib/python3.7/dist-packages/torch/nn/modules/module.py\u001b[0m in \u001b[0;36m_call_impl\u001b[0;34m(self, *input, **kwargs)\u001b[0m\n\u001b[1;32m    887\u001b[0m             \u001b[0mresult\u001b[0m \u001b[0;34m=\u001b[0m \u001b[0mself\u001b[0m\u001b[0;34m.\u001b[0m\u001b[0m_slow_forward\u001b[0m\u001b[0;34m(\u001b[0m\u001b[0;34m*\u001b[0m\u001b[0minput\u001b[0m\u001b[0;34m,\u001b[0m \u001b[0;34m**\u001b[0m\u001b[0mkwargs\u001b[0m\u001b[0;34m)\u001b[0m\u001b[0;34m\u001b[0m\u001b[0;34m\u001b[0m\u001b[0m\n\u001b[1;32m    888\u001b[0m         \u001b[0;32melse\u001b[0m\u001b[0;34m:\u001b[0m\u001b[0;34m\u001b[0m\u001b[0;34m\u001b[0m\u001b[0m\n\u001b[0;32m--> 889\u001b[0;31m             \u001b[0mresult\u001b[0m \u001b[0;34m=\u001b[0m \u001b[0mself\u001b[0m\u001b[0;34m.\u001b[0m\u001b[0mforward\u001b[0m\u001b[0;34m(\u001b[0m\u001b[0;34m*\u001b[0m\u001b[0minput\u001b[0m\u001b[0;34m,\u001b[0m \u001b[0;34m**\u001b[0m\u001b[0mkwargs\u001b[0m\u001b[0;34m)\u001b[0m\u001b[0;34m\u001b[0m\u001b[0;34m\u001b[0m\u001b[0m\n\u001b[0m\u001b[1;32m    890\u001b[0m         for hook in itertools.chain(\n\u001b[1;32m    891\u001b[0m                 \u001b[0m_global_forward_hooks\u001b[0m\u001b[0;34m.\u001b[0m\u001b[0mvalues\u001b[0m\u001b[0;34m(\u001b[0m\u001b[0;34m)\u001b[0m\u001b[0;34m,\u001b[0m\u001b[0;34m\u001b[0m\u001b[0;34m\u001b[0m\u001b[0m\n",
            "\u001b[0;32m/usr/local/lib/python3.7/dist-packages/torch/nn/modules/batchnorm.py\u001b[0m in \u001b[0;36mforward\u001b[0;34m(self, input)\u001b[0m\n\u001b[1;32m    138\u001b[0m             \u001b[0mself\u001b[0m\u001b[0;34m.\u001b[0m\u001b[0mrunning_mean\u001b[0m \u001b[0;32mif\u001b[0m \u001b[0;32mnot\u001b[0m \u001b[0mself\u001b[0m\u001b[0;34m.\u001b[0m\u001b[0mtraining\u001b[0m \u001b[0;32mor\u001b[0m \u001b[0mself\u001b[0m\u001b[0;34m.\u001b[0m\u001b[0mtrack_running_stats\u001b[0m \u001b[0;32melse\u001b[0m \u001b[0;32mNone\u001b[0m\u001b[0;34m,\u001b[0m\u001b[0;34m\u001b[0m\u001b[0;34m\u001b[0m\u001b[0m\n\u001b[1;32m    139\u001b[0m             \u001b[0mself\u001b[0m\u001b[0;34m.\u001b[0m\u001b[0mrunning_var\u001b[0m \u001b[0;32mif\u001b[0m \u001b[0;32mnot\u001b[0m \u001b[0mself\u001b[0m\u001b[0;34m.\u001b[0m\u001b[0mtraining\u001b[0m \u001b[0;32mor\u001b[0m \u001b[0mself\u001b[0m\u001b[0;34m.\u001b[0m\u001b[0mtrack_running_stats\u001b[0m \u001b[0;32melse\u001b[0m \u001b[0;32mNone\u001b[0m\u001b[0;34m,\u001b[0m\u001b[0;34m\u001b[0m\u001b[0;34m\u001b[0m\u001b[0m\n\u001b[0;32m--> 140\u001b[0;31m             self.weight, self.bias, bn_training, exponential_average_factor, self.eps)\n\u001b[0m\u001b[1;32m    141\u001b[0m \u001b[0;34m\u001b[0m\u001b[0m\n\u001b[1;32m    142\u001b[0m \u001b[0;34m\u001b[0m\u001b[0m\n",
            "\u001b[0;32m/usr/local/lib/python3.7/dist-packages/torch/nn/functional.py\u001b[0m in \u001b[0;36mbatch_norm\u001b[0;34m(input, running_mean, running_var, weight, bias, training, momentum, eps)\u001b[0m\n\u001b[1;32m   2148\u001b[0m \u001b[0;34m\u001b[0m\u001b[0m\n\u001b[1;32m   2149\u001b[0m     return torch.batch_norm(\n\u001b[0;32m-> 2150\u001b[0;31m         \u001b[0minput\u001b[0m\u001b[0;34m,\u001b[0m \u001b[0mweight\u001b[0m\u001b[0;34m,\u001b[0m \u001b[0mbias\u001b[0m\u001b[0;34m,\u001b[0m \u001b[0mrunning_mean\u001b[0m\u001b[0;34m,\u001b[0m \u001b[0mrunning_var\u001b[0m\u001b[0;34m,\u001b[0m \u001b[0mtraining\u001b[0m\u001b[0;34m,\u001b[0m \u001b[0mmomentum\u001b[0m\u001b[0;34m,\u001b[0m \u001b[0meps\u001b[0m\u001b[0;34m,\u001b[0m \u001b[0mtorch\u001b[0m\u001b[0;34m.\u001b[0m\u001b[0mbackends\u001b[0m\u001b[0;34m.\u001b[0m\u001b[0mcudnn\u001b[0m\u001b[0;34m.\u001b[0m\u001b[0menabled\u001b[0m\u001b[0;34m\u001b[0m\u001b[0;34m\u001b[0m\u001b[0m\n\u001b[0m\u001b[1;32m   2151\u001b[0m     )\n\u001b[1;32m   2152\u001b[0m \u001b[0;34m\u001b[0m\u001b[0m\n",
            "\u001b[0;31mRuntimeError\u001b[0m: CUDA out of memory. Tried to allocate 1024.00 MiB (GPU 0; 11.17 GiB total capacity; 10.65 GiB already allocated; 28.81 MiB free; 10.71 GiB reserved in total by PyTorch)"
          ]
        }
      ]
    },
    {
      "cell_type": "markdown",
      "metadata": {
        "id": "4MAMOQmHDpXi"
      },
      "source": [
        "Plot the loss:"
      ],
      "id": "4MAMOQmHDpXi"
    },
    {
      "cell_type": "code",
      "metadata": {
        "id": "clinical-quarter"
      },
      "source": [
        "plt.plot(torch.log(F.avg_pool1d(run_loss.view(1,1,-1),15,stride=1).squeeze()));\n",
        "plt.show()"
      ],
      "id": "clinical-quarter",
      "execution_count": null,
      "outputs": []
    },
    {
      "cell_type": "markdown",
      "metadata": {
        "id": "ewSDtkhODzQN"
      },
      "source": [
        "Run the **validation**:"
      ],
      "id": "ewSDtkhODzQN"
    },
    {
      "cell_type": "code",
      "metadata": {
        "id": "worth-weekly"
      },
      "source": [
        "def dice_coeff(outputs, labels, max_label):\n",
        "    dice = torch.FloatTensor(max_label-1).fill_(0)\n",
        "    for label_num in range(1, max_label):\n",
        "        iflat = (outputs==label_num).view(-1).float()\n",
        "        tflat = (labels==label_num).view(-1).float()\n",
        "        intersection = torch.mean(iflat * tflat)\n",
        "        dice[label_num-1] = (2. * intersection) / (1e-8 + torch.mean(iflat) + torch.mean(tflat))\n",
        "    return dice\n",
        "\n",
        "# validation\n",
        "head.eval()\n",
        "backbone.eval()\n",
        "aspp.eval()\n",
        "\n",
        "d_all = torch.zeros(10,13)\n",
        "predict_all = torch.zeros(10,128,128,128).short()\n",
        "for i in range(10):\n",
        "    with torch.no_grad():\n",
        "        # TODO read x from head (having passed aspp & backbone)\n",
        "        x = head(aspp(backbone(input)))# ...\n",
        "        # TODO upscale x by factor of 4 \n",
        "        output = F.interpolate(x, scale_factor=4, mode=\"trilinear\")# ...\n",
        "    \n",
        "    predict_all[i] = output.argmax(1).cpu().data\n",
        "    d = dice_coeff(output.argmax(1).cpu().data,segs_val[i:i+1].cpu().data,14)\n",
        "    \n",
        "    d_all[i,:] = d\n",
        "  \n",
        "label_txt = ['spleen','right kidney','left kidney','esophagus','liver','stomach','inferior vena cava',\\\n",
        "             'portal vein','pancreas']\n",
        "\n",
        "label_rgb = torch.Tensor([0,0,0, 208,0,0, 255,230,2, 48,194,0, 0,0,0, 0,110,255, 98,0,190, 247,0,255, 158,97,0, 255,160,70, \\\n",
        "                         0,131,32, 49,165,171]).view(12,3)\n"
      ],
      "id": "worth-weekly",
      "execution_count": null,
      "outputs": []
    },
    {
      "cell_type": "markdown",
      "metadata": {
        "id": "nOsjgW2GESla"
      },
      "source": [
        "Inspect the **loss** and **dice** for the invidual classes:"
      ],
      "id": "nOsjgW2GESla"
    },
    {
      "cell_type": "code",
      "metadata": {
        "id": "th9Ra3H2EeQ-"
      },
      "source": [
        "# TODO evaluation"
      ],
      "id": "th9Ra3H2EeQ-",
      "execution_count": null,
      "outputs": []
    },
    {
      "cell_type": "markdown",
      "metadata": {
        "id": "BwWTwstMEgn_"
      },
      "source": [
        "The following function can be used to overlay the predicted segmentation onto the input images:"
      ],
      "id": "BwWTwstMEgn_"
    },
    {
      "cell_type": "code",
      "metadata": {
        "id": "quantitative-messaging"
      },
      "source": [
        "def overlaySegment(gray1,seg1,colors,flag=False):\n",
        "    H, W = seg1.squeeze().size()\n",
        "    segs1 = F.one_hot(seg1.long(),14).float().permute(2,0,1)[:12] \n",
        "\n",
        "    seg_color = torch.mm(segs1.view(12,-1).t(),colors[:12,:]).view(H,W,3)\n",
        "    alpha = torch.clamp(1.0 - 0.5*(seg1>0).float(),0,1.0)\n",
        "\n",
        "    overlay = (gray1*alpha).unsqueeze(2) + seg_color*(1.0-alpha).unsqueeze(2)\n",
        "    if(flag):\n",
        "        plt.imshow((overlay).numpy()); \n",
        "        plt.axis('off');\n",
        "        plt.show()\n",
        "    return overlay\n",
        "\n",
        "y = 57\n",
        "gray = torch.clamp(imgs_val[1,0,:,y,:].t().flip(0).data.cpu()+4/5,0,7/5)*5/7\n",
        "rgb = overlaySegment(gray,predict_all[1,:,y,:].t().flip(0).float(),label_rgb/255,True)\n",
        "\n",
        "# TODO Visualize multiple images with corresponding overlays\n",
        "# ...\n"
      ],
      "id": "quantitative-messaging",
      "execution_count": null,
      "outputs": []
    },
    {
      "cell_type": "code",
      "metadata": {
        "id": "equipped-knowing"
      },
      "source": [
        "y = 57\n",
        "gray = torch.clamp(imgs_val[5,0,:,y,:].t().flip(0).data.cpu()+4/5,0,7/5)*5/7\n",
        "rgb = overlaySegment(gray,predict_all[5,:,y,:].t().flip(0).float(),label_rgb/255,True)\n",
        "\n"
      ],
      "id": "equipped-knowing",
      "execution_count": null,
      "outputs": []
    },
    {
      "cell_type": "markdown",
      "metadata": {
        "id": "3dp6CaBiFGjO"
      },
      "source": [
        "**Bonus** Use a dice as a loss function and inspect the results:"
      ],
      "id": "3dp6CaBiFGjO"
    },
    {
      "cell_type": "code",
      "metadata": {
        "id": "1jMdVbpeFIZf"
      },
      "source": [
        "# ..."
      ],
      "id": "1jMdVbpeFIZf",
      "execution_count": null,
      "outputs": []
    }
  ]
}